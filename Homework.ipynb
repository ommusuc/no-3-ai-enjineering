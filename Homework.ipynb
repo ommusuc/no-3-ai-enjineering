{
  "nbformat": 4,
  "nbformat_minor": 0,
  "metadata": {
    "colab": {
      "provenance": [],
      "machine_shape": "hm",
      "gpuType": "A100",
      "include_colab_link": true
    },
    "kernelspec": {
      "name": "python3",
      "display_name": "Python 3"
    },
    "language_info": {
      "name": "python"
    },
    "accelerator": "GPU",
    "widgets": {
      "application/vnd.jupyter.widget-state+json": {
        "5c982a5544b64614a372c93c086bf409": {
          "model_module": "@jupyter-widgets/controls",
          "model_name": "VBoxModel",
          "model_module_version": "1.5.0",
          "state": {
            "_dom_classes": [],
            "_model_module": "@jupyter-widgets/controls",
            "_model_module_version": "1.5.0",
            "_model_name": "VBoxModel",
            "_view_count": null,
            "_view_module": "@jupyter-widgets/controls",
            "_view_module_version": "1.5.0",
            "_view_name": "VBoxView",
            "box_style": "",
            "children": [],
            "layout": "IPY_MODEL_75b667d4bb6a4ce9a9960ac2cd8f3aaf"
          }
        },
        "8813df6c48af4a7fb0e804757adc32b2": {
          "model_module": "@jupyter-widgets/controls",
          "model_name": "HTMLModel",
          "model_module_version": "1.5.0",
          "state": {
            "_dom_classes": [],
            "_model_module": "@jupyter-widgets/controls",
            "_model_module_version": "1.5.0",
            "_model_name": "HTMLModel",
            "_view_count": null,
            "_view_module": "@jupyter-widgets/controls",
            "_view_module_version": "1.5.0",
            "_view_name": "HTMLView",
            "description": "",
            "description_tooltip": null,
            "layout": "IPY_MODEL_8c047b38657c4756ab937a9d98d915d6",
            "placeholder": "​",
            "style": "IPY_MODEL_af7290d3d4284b309f0e6ccea0475303",
            "value": "<center> <img\nsrc=https://huggingface.co/front/assets/huggingface_logo-noborder.svg\nalt='Hugging Face'> <br> Copy a token from <a\nhref=\"https://huggingface.co/settings/tokens\" target=\"_blank\">your Hugging Face\ntokens page</a> and paste it below. <br> Immediately click login after copying\nyour token or it might be stored in plain text in this notebook file. </center>"
          }
        },
        "0e0f73ac0c5c423c9054c24828c280cf": {
          "model_module": "@jupyter-widgets/controls",
          "model_name": "PasswordModel",
          "model_module_version": "1.5.0",
          "state": {
            "_dom_classes": [],
            "_model_module": "@jupyter-widgets/controls",
            "_model_module_version": "1.5.0",
            "_model_name": "PasswordModel",
            "_view_count": null,
            "_view_module": "@jupyter-widgets/controls",
            "_view_module_version": "1.5.0",
            "_view_name": "PasswordView",
            "continuous_update": true,
            "description": "Token:",
            "description_tooltip": null,
            "disabled": false,
            "layout": "IPY_MODEL_8234ad4266394cae88a7e5224bec4b1f",
            "placeholder": "​",
            "style": "IPY_MODEL_414eadad910d4054823b8f18a8105e82",
            "value": ""
          }
        },
        "afba140511164f41b5492f3fc1670af0": {
          "model_module": "@jupyter-widgets/controls",
          "model_name": "CheckboxModel",
          "model_module_version": "1.5.0",
          "state": {
            "_dom_classes": [],
            "_model_module": "@jupyter-widgets/controls",
            "_model_module_version": "1.5.0",
            "_model_name": "CheckboxModel",
            "_view_count": null,
            "_view_module": "@jupyter-widgets/controls",
            "_view_module_version": "1.5.0",
            "_view_name": "CheckboxView",
            "description": "Add token as git credential?",
            "description_tooltip": null,
            "disabled": false,
            "indent": true,
            "layout": "IPY_MODEL_1e9820c8b17d44b1ba1a8a8a530e21d8",
            "style": "IPY_MODEL_6a7aeb71ea1f4040ada033fdd4216057",
            "value": true
          }
        },
        "328801f7cbbb45b587763ec9aa089d61": {
          "model_module": "@jupyter-widgets/controls",
          "model_name": "ButtonModel",
          "model_module_version": "1.5.0",
          "state": {
            "_dom_classes": [],
            "_model_module": "@jupyter-widgets/controls",
            "_model_module_version": "1.5.0",
            "_model_name": "ButtonModel",
            "_view_count": null,
            "_view_module": "@jupyter-widgets/controls",
            "_view_module_version": "1.5.0",
            "_view_name": "ButtonView",
            "button_style": "",
            "description": "Login",
            "disabled": false,
            "icon": "",
            "layout": "IPY_MODEL_c977977b602841c5afd4bbef0c600f83",
            "style": "IPY_MODEL_285a8834e2e04be7aa427fe60ee430d9",
            "tooltip": ""
          }
        },
        "ad715475ebed457992460afb3c2cdee6": {
          "model_module": "@jupyter-widgets/controls",
          "model_name": "HTMLModel",
          "model_module_version": "1.5.0",
          "state": {
            "_dom_classes": [],
            "_model_module": "@jupyter-widgets/controls",
            "_model_module_version": "1.5.0",
            "_model_name": "HTMLModel",
            "_view_count": null,
            "_view_module": "@jupyter-widgets/controls",
            "_view_module_version": "1.5.0",
            "_view_name": "HTMLView",
            "description": "",
            "description_tooltip": null,
            "layout": "IPY_MODEL_e6e527736f8f4173b5bed99ecda473cd",
            "placeholder": "​",
            "style": "IPY_MODEL_93d7bc4a0b194144a2af7ae7bfec3295",
            "value": "\n<b>Pro Tip:</b> If you don't already have one, you can create a dedicated\n'notebooks' token with 'write' access, that you can then easily reuse for all\nnotebooks. </center>"
          }
        },
        "75b667d4bb6a4ce9a9960ac2cd8f3aaf": {
          "model_module": "@jupyter-widgets/base",
          "model_name": "LayoutModel",
          "model_module_version": "1.2.0",
          "state": {
            "_model_module": "@jupyter-widgets/base",
            "_model_module_version": "1.2.0",
            "_model_name": "LayoutModel",
            "_view_count": null,
            "_view_module": "@jupyter-widgets/base",
            "_view_module_version": "1.2.0",
            "_view_name": "LayoutView",
            "align_content": null,
            "align_items": "center",
            "align_self": null,
            "border": null,
            "bottom": null,
            "display": "flex",
            "flex": null,
            "flex_flow": "column",
            "grid_area": null,
            "grid_auto_columns": null,
            "grid_auto_flow": null,
            "grid_auto_rows": null,
            "grid_column": null,
            "grid_gap": null,
            "grid_row": null,
            "grid_template_areas": null,
            "grid_template_columns": null,
            "grid_template_rows": null,
            "height": null,
            "justify_content": null,
            "justify_items": null,
            "left": null,
            "margin": null,
            "max_height": null,
            "max_width": null,
            "min_height": null,
            "min_width": null,
            "object_fit": null,
            "object_position": null,
            "order": null,
            "overflow": null,
            "overflow_x": null,
            "overflow_y": null,
            "padding": null,
            "right": null,
            "top": null,
            "visibility": null,
            "width": "50%"
          }
        },
        "8c047b38657c4756ab937a9d98d915d6": {
          "model_module": "@jupyter-widgets/base",
          "model_name": "LayoutModel",
          "model_module_version": "1.2.0",
          "state": {
            "_model_module": "@jupyter-widgets/base",
            "_model_module_version": "1.2.0",
            "_model_name": "LayoutModel",
            "_view_count": null,
            "_view_module": "@jupyter-widgets/base",
            "_view_module_version": "1.2.0",
            "_view_name": "LayoutView",
            "align_content": null,
            "align_items": null,
            "align_self": null,
            "border": null,
            "bottom": null,
            "display": null,
            "flex": null,
            "flex_flow": null,
            "grid_area": null,
            "grid_auto_columns": null,
            "grid_auto_flow": null,
            "grid_auto_rows": null,
            "grid_column": null,
            "grid_gap": null,
            "grid_row": null,
            "grid_template_areas": null,
            "grid_template_columns": null,
            "grid_template_rows": null,
            "height": null,
            "justify_content": null,
            "justify_items": null,
            "left": null,
            "margin": null,
            "max_height": null,
            "max_width": null,
            "min_height": null,
            "min_width": null,
            "object_fit": null,
            "object_position": null,
            "order": null,
            "overflow": null,
            "overflow_x": null,
            "overflow_y": null,
            "padding": null,
            "right": null,
            "top": null,
            "visibility": null,
            "width": null
          }
        },
        "af7290d3d4284b309f0e6ccea0475303": {
          "model_module": "@jupyter-widgets/controls",
          "model_name": "DescriptionStyleModel",
          "model_module_version": "1.5.0",
          "state": {
            "_model_module": "@jupyter-widgets/controls",
            "_model_module_version": "1.5.0",
            "_model_name": "DescriptionStyleModel",
            "_view_count": null,
            "_view_module": "@jupyter-widgets/base",
            "_view_module_version": "1.2.0",
            "_view_name": "StyleView",
            "description_width": ""
          }
        },
        "8234ad4266394cae88a7e5224bec4b1f": {
          "model_module": "@jupyter-widgets/base",
          "model_name": "LayoutModel",
          "model_module_version": "1.2.0",
          "state": {
            "_model_module": "@jupyter-widgets/base",
            "_model_module_version": "1.2.0",
            "_model_name": "LayoutModel",
            "_view_count": null,
            "_view_module": "@jupyter-widgets/base",
            "_view_module_version": "1.2.0",
            "_view_name": "LayoutView",
            "align_content": null,
            "align_items": null,
            "align_self": null,
            "border": null,
            "bottom": null,
            "display": null,
            "flex": null,
            "flex_flow": null,
            "grid_area": null,
            "grid_auto_columns": null,
            "grid_auto_flow": null,
            "grid_auto_rows": null,
            "grid_column": null,
            "grid_gap": null,
            "grid_row": null,
            "grid_template_areas": null,
            "grid_template_columns": null,
            "grid_template_rows": null,
            "height": null,
            "justify_content": null,
            "justify_items": null,
            "left": null,
            "margin": null,
            "max_height": null,
            "max_width": null,
            "min_height": null,
            "min_width": null,
            "object_fit": null,
            "object_position": null,
            "order": null,
            "overflow": null,
            "overflow_x": null,
            "overflow_y": null,
            "padding": null,
            "right": null,
            "top": null,
            "visibility": null,
            "width": null
          }
        },
        "414eadad910d4054823b8f18a8105e82": {
          "model_module": "@jupyter-widgets/controls",
          "model_name": "DescriptionStyleModel",
          "model_module_version": "1.5.0",
          "state": {
            "_model_module": "@jupyter-widgets/controls",
            "_model_module_version": "1.5.0",
            "_model_name": "DescriptionStyleModel",
            "_view_count": null,
            "_view_module": "@jupyter-widgets/base",
            "_view_module_version": "1.2.0",
            "_view_name": "StyleView",
            "description_width": ""
          }
        },
        "1e9820c8b17d44b1ba1a8a8a530e21d8": {
          "model_module": "@jupyter-widgets/base",
          "model_name": "LayoutModel",
          "model_module_version": "1.2.0",
          "state": {
            "_model_module": "@jupyter-widgets/base",
            "_model_module_version": "1.2.0",
            "_model_name": "LayoutModel",
            "_view_count": null,
            "_view_module": "@jupyter-widgets/base",
            "_view_module_version": "1.2.0",
            "_view_name": "LayoutView",
            "align_content": null,
            "align_items": null,
            "align_self": null,
            "border": null,
            "bottom": null,
            "display": null,
            "flex": null,
            "flex_flow": null,
            "grid_area": null,
            "grid_auto_columns": null,
            "grid_auto_flow": null,
            "grid_auto_rows": null,
            "grid_column": null,
            "grid_gap": null,
            "grid_row": null,
            "grid_template_areas": null,
            "grid_template_columns": null,
            "grid_template_rows": null,
            "height": null,
            "justify_content": null,
            "justify_items": null,
            "left": null,
            "margin": null,
            "max_height": null,
            "max_width": null,
            "min_height": null,
            "min_width": null,
            "object_fit": null,
            "object_position": null,
            "order": null,
            "overflow": null,
            "overflow_x": null,
            "overflow_y": null,
            "padding": null,
            "right": null,
            "top": null,
            "visibility": null,
            "width": null
          }
        },
        "6a7aeb71ea1f4040ada033fdd4216057": {
          "model_module": "@jupyter-widgets/controls",
          "model_name": "DescriptionStyleModel",
          "model_module_version": "1.5.0",
          "state": {
            "_model_module": "@jupyter-widgets/controls",
            "_model_module_version": "1.5.0",
            "_model_name": "DescriptionStyleModel",
            "_view_count": null,
            "_view_module": "@jupyter-widgets/base",
            "_view_module_version": "1.2.0",
            "_view_name": "StyleView",
            "description_width": ""
          }
        },
        "c977977b602841c5afd4bbef0c600f83": {
          "model_module": "@jupyter-widgets/base",
          "model_name": "LayoutModel",
          "model_module_version": "1.2.0",
          "state": {
            "_model_module": "@jupyter-widgets/base",
            "_model_module_version": "1.2.0",
            "_model_name": "LayoutModel",
            "_view_count": null,
            "_view_module": "@jupyter-widgets/base",
            "_view_module_version": "1.2.0",
            "_view_name": "LayoutView",
            "align_content": null,
            "align_items": null,
            "align_self": null,
            "border": null,
            "bottom": null,
            "display": null,
            "flex": null,
            "flex_flow": null,
            "grid_area": null,
            "grid_auto_columns": null,
            "grid_auto_flow": null,
            "grid_auto_rows": null,
            "grid_column": null,
            "grid_gap": null,
            "grid_row": null,
            "grid_template_areas": null,
            "grid_template_columns": null,
            "grid_template_rows": null,
            "height": null,
            "justify_content": null,
            "justify_items": null,
            "left": null,
            "margin": null,
            "max_height": null,
            "max_width": null,
            "min_height": null,
            "min_width": null,
            "object_fit": null,
            "object_position": null,
            "order": null,
            "overflow": null,
            "overflow_x": null,
            "overflow_y": null,
            "padding": null,
            "right": null,
            "top": null,
            "visibility": null,
            "width": null
          }
        },
        "285a8834e2e04be7aa427fe60ee430d9": {
          "model_module": "@jupyter-widgets/controls",
          "model_name": "ButtonStyleModel",
          "model_module_version": "1.5.0",
          "state": {
            "_model_module": "@jupyter-widgets/controls",
            "_model_module_version": "1.5.0",
            "_model_name": "ButtonStyleModel",
            "_view_count": null,
            "_view_module": "@jupyter-widgets/base",
            "_view_module_version": "1.2.0",
            "_view_name": "StyleView",
            "button_color": null,
            "font_weight": ""
          }
        },
        "e6e527736f8f4173b5bed99ecda473cd": {
          "model_module": "@jupyter-widgets/base",
          "model_name": "LayoutModel",
          "model_module_version": "1.2.0",
          "state": {
            "_model_module": "@jupyter-widgets/base",
            "_model_module_version": "1.2.0",
            "_model_name": "LayoutModel",
            "_view_count": null,
            "_view_module": "@jupyter-widgets/base",
            "_view_module_version": "1.2.0",
            "_view_name": "LayoutView",
            "align_content": null,
            "align_items": null,
            "align_self": null,
            "border": null,
            "bottom": null,
            "display": null,
            "flex": null,
            "flex_flow": null,
            "grid_area": null,
            "grid_auto_columns": null,
            "grid_auto_flow": null,
            "grid_auto_rows": null,
            "grid_column": null,
            "grid_gap": null,
            "grid_row": null,
            "grid_template_areas": null,
            "grid_template_columns": null,
            "grid_template_rows": null,
            "height": null,
            "justify_content": null,
            "justify_items": null,
            "left": null,
            "margin": null,
            "max_height": null,
            "max_width": null,
            "min_height": null,
            "min_width": null,
            "object_fit": null,
            "object_position": null,
            "order": null,
            "overflow": null,
            "overflow_x": null,
            "overflow_y": null,
            "padding": null,
            "right": null,
            "top": null,
            "visibility": null,
            "width": null
          }
        },
        "93d7bc4a0b194144a2af7ae7bfec3295": {
          "model_module": "@jupyter-widgets/controls",
          "model_name": "DescriptionStyleModel",
          "model_module_version": "1.5.0",
          "state": {
            "_model_module": "@jupyter-widgets/controls",
            "_model_module_version": "1.5.0",
            "_model_name": "DescriptionStyleModel",
            "_view_count": null,
            "_view_module": "@jupyter-widgets/base",
            "_view_module_version": "1.2.0",
            "_view_name": "StyleView",
            "description_width": ""
          }
        },
        "fd11e0220cea40cda54b1a46571b97ed": {
          "model_module": "@jupyter-widgets/controls",
          "model_name": "LabelModel",
          "model_module_version": "1.5.0",
          "state": {
            "_dom_classes": [],
            "_model_module": "@jupyter-widgets/controls",
            "_model_module_version": "1.5.0",
            "_model_name": "LabelModel",
            "_view_count": null,
            "_view_module": "@jupyter-widgets/controls",
            "_view_module_version": "1.5.0",
            "_view_name": "LabelView",
            "description": "",
            "description_tooltip": null,
            "layout": "IPY_MODEL_169d62279b364cf6a19e875e3869a196",
            "placeholder": "​",
            "style": "IPY_MODEL_dae82aa869c149cb920ef35817376ed9",
            "value": "Connecting..."
          }
        },
        "169d62279b364cf6a19e875e3869a196": {
          "model_module": "@jupyter-widgets/base",
          "model_name": "LayoutModel",
          "model_module_version": "1.2.0",
          "state": {
            "_model_module": "@jupyter-widgets/base",
            "_model_module_version": "1.2.0",
            "_model_name": "LayoutModel",
            "_view_count": null,
            "_view_module": "@jupyter-widgets/base",
            "_view_module_version": "1.2.0",
            "_view_name": "LayoutView",
            "align_content": null,
            "align_items": null,
            "align_self": null,
            "border": null,
            "bottom": null,
            "display": null,
            "flex": null,
            "flex_flow": null,
            "grid_area": null,
            "grid_auto_columns": null,
            "grid_auto_flow": null,
            "grid_auto_rows": null,
            "grid_column": null,
            "grid_gap": null,
            "grid_row": null,
            "grid_template_areas": null,
            "grid_template_columns": null,
            "grid_template_rows": null,
            "height": null,
            "justify_content": null,
            "justify_items": null,
            "left": null,
            "margin": null,
            "max_height": null,
            "max_width": null,
            "min_height": null,
            "min_width": null,
            "object_fit": null,
            "object_position": null,
            "order": null,
            "overflow": null,
            "overflow_x": null,
            "overflow_y": null,
            "padding": null,
            "right": null,
            "top": null,
            "visibility": null,
            "width": null
          }
        },
        "dae82aa869c149cb920ef35817376ed9": {
          "model_module": "@jupyter-widgets/controls",
          "model_name": "DescriptionStyleModel",
          "model_module_version": "1.5.0",
          "state": {
            "_model_module": "@jupyter-widgets/controls",
            "_model_module_version": "1.5.0",
            "_model_name": "DescriptionStyleModel",
            "_view_count": null,
            "_view_module": "@jupyter-widgets/base",
            "_view_module_version": "1.2.0",
            "_view_name": "StyleView",
            "description_width": ""
          }
        }
      }
    }
  },
  "cells": [
    {
      "cell_type": "markdown",
      "metadata": {
        "id": "view-in-github",
        "colab_type": "text"
      },
      "source": [
        "<a href=\"https://colab.research.google.com/github/ommusuc/no-4-ai-enjineering/blob/main/Homework.ipynb\" target=\"_parent\"><img src=\"https://colab.research.google.com/assets/colab-badge.svg\" alt=\"Open In Colab\"/></a>"
      ]
    },
    {
      "cell_type": "markdown",
      "source": [
        "# 課題の概要\n",
        "\n",
        "この宿題では、講義で学んだRAG(Retrieval-Augmented Generation)技術を用いて、LLMの生成\n",
        "内容を改善する実践的な取り組みを行います。演習で利用したコードをベースに、独自の質問と参照文書を用\n",
        "いて実験を行い、RAGの効果を定量的・定性的に評価します。\n",
        "この宿題を通じて、「テストデータの作成」と「改善のプロセス」について理解を深め、実際のアプリケーション開発\n",
        "に役立てることを目指します。\n",
        "\n"
      ],
      "metadata": {
        "id": "vrOVSydXC8n3"
      }
    },
    {
      "cell_type": "markdown",
      "source": [
        "## 内容\n",
        "\n",
        "宿題の内容\n",
        "1. 独自の質問と参照資料の作成\n",
        "- 自分で5つ以上の質問文を考案してください\n",
        "- 各質問に対する回答を含む参照文書を用意してください\n",
        "- 少なくとも1つは、LLMが単体では正確に答えられないような知識を含む質問にしてください\n",
        "2. 実験の実施\n",
        "- 演習で使用したコードをベースに、以下の2つの方法で回答を生成してください\n",
        "  - ベースのLLM(RAGなし)での回答生成\n",
        "  -  RAGを組み合わせた回答生成\n",
        "- 回答の評価では、単純なYes/No判定でも良いです\n",
        "  - より詳細な評価指標も検討していただけるとなお良いです\n",
        "\n",
        "3. 結果分析と考察\n",
        "\n",
        "- 生成した結果をまとめ、RAGありとRAGなしの差異を分析してください\n",
        "- RAGによって回答が改善したケースと悪化したケースの両方について考察してください- 結果に基づいて、RAGの有効性と限界についての考察を記述してください"
      ],
      "metadata": {
        "id": "rNgYrKtoDbVZ"
      }
    },
    {
      "cell_type": "markdown",
      "source": [
        "## 扱う条件\n",
        "\n",
        "**<使用するモデル>**\n",
        "\n",
        "2024年4月リリースのMeta-Llama-3-8B-Instructを使用する\n",
        "\n",
        "\n",
        "**<参考文献>**\n",
        "\n",
        "・ディズニー公式\n",
        "\n",
        "・Wikipedia\n",
        "\n",
        "・[映画『インサイド・ヘッド』あらすじ&ネタバレ！キャラクター、声優キャスト、トリビアも♪\n",
        "](https://castel.jp/p/4118)\n",
        "\n",
        "\n",
        "・[アナと雪の女王のあらすじをネタバレ解説!最後の結末と感動の感想まで!](https://up-tsukuba.com/frozen-summary/)\n",
        "\n",
        "・[【作品、歴史から見る】ディズニーとピクサーの違いとは](https://liclog.net/disney-pixar-difference/)\n",
        "\n",
        "\n",
        "・[映画「インサイド・ヘッド２」ネタバレあらすじ結末と感想](https://eiga-watch.com/inside-out-2/)\n"
      ],
      "metadata": {
        "id": "Q-64Q-bNNzw9"
      }
    },
    {
      "cell_type": "markdown",
      "source": [
        "## 質問概要\n",
        "\n",
        "\n",
        "・ディズニーに関する質問\n",
        "\n",
        "\n",
        "1. アナと雪の女王」に登場する、魔法で作られた雪だるまの名前はなに？\n",
        "\n",
        "  解答：オラフ\n",
        "\n",
        "2. 「アナと雪の女王」でエピソードが展開される国の名前は何ですか？\n",
        "\n",
        "  解答：アレンデール\n",
        "\n",
        "\n",
        "\n",
        "3. ディズニー映画「インサイドヘッド」に関して教えて\n",
        "\n",
        "  期待する解答：\n",
        "\n",
        "  主人公少女ライリーの頭の中にいるヨロコビ、カナシミ、イカリ、ムカムカ、ビビリ5つの感情が繰り広げる冒険と1人の少女の成長を描いたストーリー\n",
        "\n",
        "4. ディズニー映画インサイドヘッドで現在までに登場している感情のキャラクターを教えて\n",
        "\n",
        "  解答：\n",
        "  \n",
        "  ヨロコビ、カナシミ、イカリ、ムカムカ、ビビリ\n",
        "\n",
        "  シンパイ、イイナ、ハズカシ、ダリィ、ナツカシ\n",
        "\n",
        "5. ディズニーとピクサーの違いを教えて\n",
        "\n",
        "  解答の評価ポイント：\n",
        "\n",
        "  設立年\n",
        "\n",
        "  共通する点\n",
        "\n",
        "  例)\n",
        "\n",
        "  親会社が、ウォルトディズニーカンパニーであることなど\n",
        "\n",
        "  異なる点\n",
        "\n",
        "  例)\n",
        "\n",
        "  名前・コンセプトなど\n",
        "\n",
        "  この二つが明確にわけられているかどうかを判断基準として定性的に評価する}"
      ],
      "metadata": {
        "id": "SF6z5scSE4Wr"
      }
    },
    {
      "cell_type": "code",
      "execution_count": null,
      "metadata": {
        "id": "bzDUjLaAC6LY"
      },
      "outputs": [],
      "source": [
        "!pip install --upgrade transformers\n",
        "!pip install google-colab-selenium\n",
        "!pip install bitsandbytes"
      ]
    },
    {
      "cell_type": "code",
      "source": [
        "# HuggingFace Login\n",
        "from huggingface_hub import notebook_login\n",
        "\n",
        "notebook_login()"
      ],
      "metadata": {
        "id": "JLZW0XeSI5aF",
        "colab": {
          "base_uri": "https://localhost:8080/",
          "height": 17,
          "referenced_widgets": [
            "5c982a5544b64614a372c93c086bf409",
            "8813df6c48af4a7fb0e804757adc32b2",
            "0e0f73ac0c5c423c9054c24828c280cf",
            "afba140511164f41b5492f3fc1670af0",
            "328801f7cbbb45b587763ec9aa089d61",
            "ad715475ebed457992460afb3c2cdee6",
            "75b667d4bb6a4ce9a9960ac2cd8f3aaf",
            "8c047b38657c4756ab937a9d98d915d6",
            "af7290d3d4284b309f0e6ccea0475303",
            "8234ad4266394cae88a7e5224bec4b1f",
            "414eadad910d4054823b8f18a8105e82",
            "1e9820c8b17d44b1ba1a8a8a530e21d8",
            "6a7aeb71ea1f4040ada033fdd4216057",
            "c977977b602841c5afd4bbef0c600f83",
            "285a8834e2e04be7aa427fe60ee430d9",
            "e6e527736f8f4173b5bed99ecda473cd",
            "93d7bc4a0b194144a2af7ae7bfec3295",
            "fd11e0220cea40cda54b1a46571b97ed",
            "169d62279b364cf6a19e875e3869a196",
            "dae82aa869c149cb920ef35817376ed9"
          ]
        },
        "outputId": "fba7b8ba-24d1-4f27-c8df-b2bb899c5716"
      },
      "execution_count": 3,
      "outputs": [
        {
          "output_type": "display_data",
          "data": {
            "text/plain": [
              "VBox(children=(HTML(value='<center> <img\\nsrc=https://huggingface.co/front/assets/huggingface_logo-noborder.sv…"
            ],
            "application/vnd.jupyter.widget-view+json": {
              "version_major": 2,
              "version_minor": 0,
              "model_id": "5c982a5544b64614a372c93c086bf409"
            }
          },
          "metadata": {}
        }
      ]
    },
    {
      "cell_type": "code",
      "source": [
        "# CUDAが利用可能ならGPUを、それ以外ならCPUをデバイスとして設定\n",
        "import torch\n",
        "device = torch.device(\"cuda\" if torch.cuda.is_available() else \"cpu\")"
      ],
      "metadata": {
        "id": "7KQOSTo3I8vv"
      },
      "execution_count": 4,
      "outputs": []
    },
    {
      "cell_type": "code",
      "source": [
        "# モデル(Llama3)の読み込み\n",
        "\n",
        "from transformers import AutoModelForCausalLM, AutoTokenizer, BitsAndBytesConfig\n",
        "\n",
        "model_name = \"meta-llama/Meta-Llama-3-8B-Instruct\"\n",
        "tokenizer = AutoTokenizer.from_pretrained(model_name)\n",
        "\n",
        "bnb_config = BitsAndBytesConfig(\n",
        "    load_in_4bit=True,\n",
        "    bnb_4bit_compute_dtype=torch.float16,\n",
        "    bnb_4bit_quant_type=\"nf4\",\n",
        "    bnb_4bit_use_double_quant=False,\n",
        ")\n",
        "\n",
        "model = AutoModelForCausalLM.from_pretrained(\n",
        "            model_name,\n",
        "            device_map=\"auto\",\n",
        "            quantization_config=bnb_config,\n",
        "            torch_dtype=torch.bfloat16,\n",
        "        )"
      ],
      "metadata": {
        "collapsed": true,
        "id": "yD_BM9bzI9OY"
      },
      "execution_count": null,
      "outputs": []
    },
    {
      "cell_type": "code",
      "source": [
        "def generate_output(query, system_prompt=None):\n",
        "  if system_prompt is None:\n",
        "    messages = [\n",
        "        {\"role\": \"user\", \"content\": query},\n",
        "    ]\n",
        "  else:\n",
        "    messages = [\n",
        "        {\"role\": \"system\", \"content\": system_prompt},\n",
        "        {\"role\": \"user\", \"content\": query},\n",
        "    ]\n",
        "  input_ids = tokenizer.apply_chat_template(\n",
        "      messages,\n",
        "      add_generation_prompt=True,\n",
        "      return_tensors=\"pt\"\n",
        "  ).to(model.device)\n",
        "\n",
        "  terminators = [\n",
        "      tokenizer.eos_token_id,\n",
        "      tokenizer.convert_tokens_to_ids(\"<|eot_id|>\")\n",
        "  ]\n",
        "\n",
        "  outputs = model.generate(\n",
        "      input_ids,\n",
        "      max_new_tokens=400,\n",
        "      eos_token_id=terminators,\n",
        "      do_sample=False,\n",
        "      # temperature=0.6, # If do_sample=True\n",
        "      # top_p=0.9,  # If do_sample=True\n",
        "  )\n",
        "\n",
        "  response = outputs[0][input_ids.shape[-1]:]\n",
        "  return tokenizer.decode(response, skip_special_tokens=True)"
      ],
      "metadata": {
        "id": "fh2xpMSzJB4Z"
      },
      "execution_count": 6,
      "outputs": []
    },
    {
      "cell_type": "markdown",
      "source": [
        "## 1～5に関して質問を行う\n"
      ],
      "metadata": {
        "id": "9sdwVasDanV0"
      }
    },
    {
      "cell_type": "markdown",
      "source": [
        "### 1 アナと雪の女王」に登場する、魔法で作られた雪だるまの名前はなに？"
      ],
      "metadata": {
        "id": "WWgofRljbC_b"
      }
    },
    {
      "cell_type": "code",
      "source": [
        "system_prompt = \"質問に回答してください。必ず「日本語で回答」すること。\"\n",
        "question =  \"アナと雪の女王」に登場する、魔法で作られた雪だるまの名前はなに？\"\n",
        "response = generate_output(question, system_prompt)"
      ],
      "metadata": {
        "id": "VbUcoEUgJGP9"
      },
      "execution_count": null,
      "outputs": []
    },
    {
      "cell_type": "code",
      "source": [
        "print(response)"
      ],
      "metadata": {
        "id": "JxRnR5s5JJtf",
        "colab": {
          "base_uri": "https://localhost:8080/"
        },
        "outputId": "18d6fef5-459c-427c-a70e-6f8d8fe060c0"
      },
      "execution_count": 8,
      "outputs": [
        {
          "output_type": "stream",
          "name": "stdout",
          "text": [
            "「アナと雪の女王」シリーズの魔法で作られた雪だるまの名前は「サマンサ」。\n"
          ]
        }
      ]
    },
    {
      "cell_type": "markdown",
      "source": [
        "### 2. 「アナと雪の女王」でエピソードが展開される国の名前は何ですか？"
      ],
      "metadata": {
        "id": "8_7sKaADbFDS"
      }
    },
    {
      "cell_type": "code",
      "source": [
        "system_prompt = \"質問に回答してください。必ず「日本語で回答」すること。\"\n",
        "question =  \"「アナと雪の女王」でエピソードが展開される国の名前は何ですか？\"\n",
        "response = generate_output(question, system_prompt)"
      ],
      "metadata": {
        "id": "UYsKNvVgLxm_",
        "colab": {
          "base_uri": "https://localhost:8080/"
        },
        "outputId": "5ef8567d-cad4-45df-c1f5-2cfb98131cef"
      },
      "execution_count": 9,
      "outputs": [
        {
          "output_type": "stream",
          "name": "stderr",
          "text": [
            "The attention mask and the pad token id were not set. As a consequence, you may observe unexpected behavior. Please pass your input's `attention_mask` to obtain reliable results.\n",
            "Setting `pad_token_id` to `eos_token_id`:128009 for open-end generation.\n"
          ]
        }
      ]
    },
    {
      "cell_type": "code",
      "source": [
        "print(response)"
      ],
      "metadata": {
        "id": "pY45MymfbeQl",
        "colab": {
          "base_uri": "https://localhost:8080/"
        },
        "outputId": "dca8f669-66ce-4d64-d523-17f2b272e5cb"
      },
      "execution_count": 10,
      "outputs": [
        {
          "output_type": "stream",
          "name": "stdout",
          "text": [
            "「アナと雪の女王」シリーズでは、エピソードが展開される国の名前は「アレンデール」です。\n"
          ]
        }
      ]
    },
    {
      "cell_type": "markdown",
      "source": [
        "### 3.ディズニー映画「インサイドヘッド」に関して教えて"
      ],
      "metadata": {
        "id": "L1nM558Ebj-o"
      }
    },
    {
      "cell_type": "code",
      "source": [
        "system_prompt = \"質問に回答してください。必ず「日本語で回答」すること。\"\n",
        "question =  \"ディズニー映画「インサイドヘッド」に関して教えて\"\n",
        "response = generate_output(question, system_prompt)"
      ],
      "metadata": {
        "id": "UMYzMW2qbgaz",
        "colab": {
          "base_uri": "https://localhost:8080/"
        },
        "outputId": "a7e6a831-133a-42af-e7e2-e691d92dc8a8"
      },
      "execution_count": 11,
      "outputs": [
        {
          "output_type": "stream",
          "name": "stderr",
          "text": [
            "The attention mask and the pad token id were not set. As a consequence, you may observe unexpected behavior. Please pass your input's `attention_mask` to obtain reliable results.\n",
            "Setting `pad_token_id` to `eos_token_id`:128009 for open-end generation.\n"
          ]
        }
      ]
    },
    {
      "cell_type": "code",
      "source": [
        "print(response)"
      ],
      "metadata": {
        "id": "4gVlVHANbqk1",
        "colab": {
          "base_uri": "https://localhost:8080/"
        },
        "outputId": "73a0f5cc-9655-477c-ebde-c63d481fbfb6"
      },
      "execution_count": 12,
      "outputs": [
        {
          "output_type": "stream",
          "name": "stdout",
          "text": [
            "「インサイドヘッド」は、2015年に公開されたアメリカン・アニメーション映画「Inside Out」です。監督はピーター・ドクター、製作はピクサー・アニメーション・スタジオ。\n",
            "\n",
            "この映画は、11歳の少女メイの脳内で起きる想像上の世界を描きます。メイの脳内には5つのエモーション（感情）が存在し、それぞれが彼女の生活に影響を与えています。5つのエモーションは、ジョー（喜び）、バリー（怒り）、ピーター（悲しみ）、サリー（哀しみ）、リグレット（後悔）です。\n",
            "\n",
            "この映画は、子供の心の世界を描き、子供たちが経験する様々な感情を描きました。同時に、映画は、子供たちが成長する過程で必要な感情のバランスを描きました。\n",
            "\n",
            "「インサイドヘッド」は、2015年のアカデミー賞で長編アニメーション映画賞を受賞し、世界中で大きな人気を博しました。\n"
          ]
        }
      ]
    },
    {
      "cell_type": "markdown",
      "source": [
        "### 4.ディズニー映画「インサイドヘッド」で現在までに登場している感情のキャラクターを教えて"
      ],
      "metadata": {
        "id": "2LelBfwhbv2E"
      }
    },
    {
      "cell_type": "code",
      "source": [
        "system_prompt = \"質問に回答してください。必ず「日本語で回答」すること。\"\n",
        "question =  \"ディズニー映画ディズニー映画インサイドヘッドで現在までに登場している感情のキャラクターを教えて\"\n",
        "response = generate_output(question, system_prompt)"
      ],
      "metadata": {
        "id": "DTAWwX97bsij",
        "colab": {
          "base_uri": "https://localhost:8080/"
        },
        "outputId": "bb29e487-d6e7-4e28-91e0-f0c94ab51d95"
      },
      "execution_count": 76,
      "outputs": [
        {
          "output_type": "stream",
          "name": "stderr",
          "text": [
            "The attention mask and the pad token id were not set. As a consequence, you may observe unexpected behavior. Please pass your input's `attention_mask` to obtain reliable results.\n",
            "Setting `pad_token_id` to `eos_token_id`:128009 for open-end generation.\n"
          ]
        }
      ]
    },
    {
      "cell_type": "code",
      "source": [
        "print(response)"
      ],
      "metadata": {
        "id": "mmRuXVaHcNs2",
        "colab": {
          "base_uri": "https://localhost:8080/"
        },
        "outputId": "d9189a1d-66bf-40a0-a6b5-9f51d163bf64"
      },
      "execution_count": 77,
      "outputs": [
        {
          "output_type": "stream",
          "name": "stdout",
          "text": [
            "「Inside Out」は2015年に公開されたピクサー製作のアニメーション映画です。映画の主人公は11歳の少女、リリーの脳内に存在する5つの感情のキャラクターです。\n",
            "\n",
            "以下は、映画「Inside Out」に登場する感情のキャラクターの名前と性格です。\n",
            "\n",
            "1. **Joy**（ハッピー）：リリーの脳内で最も強い感情。彼女は常にリリーを笑顔で見つめ、彼女の幸福を目指します。\n",
            "2. **Sadness**（哀しみ）：リリーの脳内で2番目の強い感情。彼女はリリーの悲しみを理解し、彼女を慰めるために努力します。\n",
            "3. **Anger**（怒り）：リリーの脳内で3番目の強い感情。彼はリリーの怒りを燃やし、彼女を守るために戦うします。\n",
            "4. **Fear**（恐怖）：リリーの脳内で4番目の強い感情。彼女はリリーの恐怖を理解し、彼女を守るために警戒します。\n",
            "5. **Disgust**（嫌悪）：リリーの脳内で5番目の強い感情。彼女はリリーの嫌悪を理解し、彼女を守るために警戒します。\n",
            "\n",
            "これらのキャラクターは、リリーの脳内で活動し、彼女の感情を支配しています。映画「Inside Out」は、子供の感情の世界を描き、子供たちに自分の感情を理解することを教えることを目指しています。\n"
          ]
        }
      ]
    },
    {
      "cell_type": "markdown",
      "source": [
        "### 5 ディズニーとピクサーの違いを教えて"
      ],
      "metadata": {
        "id": "5mBAPq-0cS3W"
      }
    },
    {
      "cell_type": "code",
      "source": [
        "def generate_output2(query, system_prompt=None):\n",
        "  if system_prompt is None:\n",
        "    messages = [\n",
        "        {\"role\": \"user\", \"content\": query},\n",
        "    ]\n",
        "  else:\n",
        "    messages = [\n",
        "        {\"role\": \"system\", \"content\": system_prompt},\n",
        "        {\"role\": \"user\", \"content\": query},\n",
        "    ]\n",
        "  input_ids = tokenizer.apply_chat_template(\n",
        "      messages,\n",
        "      add_generation_prompt=True,\n",
        "      return_tensors=\"pt\"\n",
        "  ).to(model.device)\n",
        "\n",
        "  terminators = [\n",
        "      tokenizer.eos_token_id,\n",
        "      tokenizer.convert_tokens_to_ids(\"<|eot_id|>\")\n",
        "  ]\n",
        "\n",
        "  outputs = model.generate(\n",
        "      input_ids,\n",
        "      max_new_tokens=2000,\n",
        "      eos_token_id=terminators,\n",
        "      do_sample=False,\n",
        "      # temperature=0.6, # If do_sample=True\n",
        "      # top_p=0.9,  # If do_sample=True\n",
        "  )\n",
        "\n",
        "  response = outputs[0][input_ids.shape[-1]:]\n",
        "  return tokenizer.decode(response, skip_special_tokens=True)"
      ],
      "metadata": {
        "id": "5h8MawdPc4DR"
      },
      "execution_count": 15,
      "outputs": []
    },
    {
      "cell_type": "code",
      "source": [
        "system_prompt = \"質問に回答してください。必ず「日本語で回答」すること。\"\n",
        "question =  \"ディズニーとピクサーの違いを教えて\"\n",
        "response = generate_output2(question, system_prompt)"
      ],
      "metadata": {
        "id": "_OjT22plcRiA",
        "colab": {
          "base_uri": "https://localhost:8080/"
        },
        "outputId": "f67ba0ec-5189-4adb-e886-b0de80b443af"
      },
      "execution_count": 16,
      "outputs": [
        {
          "output_type": "stream",
          "name": "stderr",
          "text": [
            "The attention mask and the pad token id were not set. As a consequence, you may observe unexpected behavior. Please pass your input's `attention_mask` to obtain reliable results.\n",
            "Setting `pad_token_id` to `eos_token_id`:128009 for open-end generation.\n"
          ]
        }
      ]
    },
    {
      "cell_type": "code",
      "source": [
        "response"
      ],
      "metadata": {
        "id": "ayHp1hpVcqnY",
        "colab": {
          "base_uri": "https://localhost:8080/",
          "height": 122
        },
        "outputId": "86395d08-045f-470f-d75f-d7501275bd7c"
      },
      "execution_count": 17,
      "outputs": [
        {
          "output_type": "execute_result",
          "data": {
            "text/plain": [
              "'ディズニーとピクサーは、両方ともアニメーション製作会社ですが、歴史的には独立した存在で、現在でも異なる組織体制を持っています。\\n\\nディズニーは、ウォルト・ディズニーが創業したアニメーション製作会社で、1930年代に設立されました。ディズニーは、ウォルト・ディズニー自身が創作したキャラクター「ミッキー・マウス」や「ドナルド・ダック」などの人気キャラクターを生み出し、映画「白雪姫」や「シンデレラ」などのクラシック・アニメーション映画を製作しました。\\n\\n一方、ピクサーは、スティーブ・ジョブズとジョン・ラタザンが1986年に設立したアニメーション製作会社です。ピクサーは、初期にはディズニーとの提携関係にあり、「トイ・ストーリー」や「モンスターズ・インク」などの映画を製作しました。2006年にディズニーがピクサーを買収し、現在はディズニーの一部門として運営されています。\\n\\nピクサーの特徴として、ストーリー性の強いアニメーション映画を製作し、「トイ・ストーリー」や「インクレディブルズ」などの大ヒット映画を生み出しています。また、ピクサーは、CGI（コンピューター・ジェネレーテッド・イメージ）技術を積極的に使用し、3Dアニメーション映画を製作しています。\\n\\n以上のように、ディズニーとピクサーは、歴史的には独立した存在で、現在でも異なる組織体制を持っています。ただし、ピクサーがディズニーに買収されたことで、両方の会社は、より強力なアニメーション製作能力を有することになりました。'"
            ],
            "application/vnd.google.colaboratory.intrinsic+json": {
              "type": "string"
            }
          },
          "metadata": {},
          "execution_count": 17
        }
      ]
    },
    {
      "cell_type": "markdown",
      "source": [
        "## RAG実装"
      ],
      "metadata": {
        "id": "An0Q5j914fHZ"
      }
    },
    {
      "cell_type": "markdown",
      "source": [
        "### アナ雪\n",
        "\n",
        "**初期RAG実装（ベーシックアプローチ）**:\n",
        "* **ドキュメント処理**: Wikipediaにおける「アナと雪の女王」のストーリーを参照\n",
        "* **分割方法**: 「。」（句点）で区切られた文単位でテキストを分割\n",
        "* **検索手法**: シンプルな類似度ベースの検索でクエリに関連する文を抽出\n",
        "* **制約条件**: モデルの入力トークン制限に収まるよう関連文のみを選択"
      ],
      "metadata": {
        "id": "ir43e055-c-8"
      }
    },
    {
      "cell_type": "code",
      "source": [
        "from sentence_transformers import SentenceTransformer\n",
        "\n",
        "emb_model = SentenceTransformer(\"infly/inf-retriever-v1-1.5b\", trust_remote_code=True)\n",
        "# In case you want to reduce the maximum length:\n",
        "emb_model.max_seq_length = 8192"
      ],
      "metadata": {
        "id": "oY7xap1Ycr_3"
      },
      "execution_count": 44,
      "outputs": []
    },
    {
      "cell_type": "code",
      "source": [
        "with open(\"/content/frozen.txt\", \"r\") as f:\n",
        "  raw_writedown = f.read()"
      ],
      "metadata": {
        "id": "3qaWoL975FRr"
      },
      "execution_count": 51,
      "outputs": []
    },
    {
      "cell_type": "code",
      "source": [
        "# ドキュメントを用意する。\n",
        "documents = [text.strip() for text in raw_writedown.split(\"。\")]\n",
        "print(\"ドキュメントサイズ: \", len(documents))\n",
        "print(\"ドキュメントの例: \\n\", documents[42])"
      ],
      "metadata": {
        "colab": {
          "base_uri": "https://localhost:8080/"
        },
        "id": "CjZXiSB95e26",
        "outputId": "bd0a1a3e-0e93-4fda-b80f-bd64a8bcc2c0"
      },
      "execution_count": 52,
      "outputs": [
        {
          "output_type": "stream",
          "name": "stdout",
          "text": [
            "ドキュメントサイズ:  85\n",
            "ドキュメントの例: \n",
            " エルサは成長するにつれて力が増し、この力を世間から隠すために城の門や窓を閉め切り、エルサは誰にも会わない生活を強いられました\n"
          ]
        }
      ]
    },
    {
      "cell_type": "code",
      "source": [
        "# Retrievalの実行\n",
        "question = \"アナと雪の女王」に登場する、雪だるまの名前はなに？\"\n",
        "\n",
        "query_embeddings = emb_model.encode([question], prompt_name=\"query\")\n",
        "document_embeddings = emb_model.encode(documents)\n",
        "\n",
        "# 各ドキュメントの類似度スコア\n",
        "scores = (query_embeddings @ document_embeddings.T) * 100\n",
        "print(scores.tolist())"
      ],
      "metadata": {
        "colab": {
          "base_uri": "https://localhost:8080/"
        },
        "id": "fEDIxAyx5g7F",
        "outputId": "a40f1daf-fea1-4b6c-876e-9c4b9e7e414f"
      },
      "execution_count": 55,
      "outputs": [
        {
          "output_type": "stream",
          "name": "stdout",
          "text": [
            "[[71.68010711669922, 76.77472686767578, 73.00437927246094, 69.40055084228516, 74.25717163085938, 74.01288604736328, 65.18295288085938, 72.58943176269531, 67.93061065673828, 65.6526107788086, 75.89250946044922, 63.358367919921875, 70.46659851074219, 67.56652069091797, 70.9630355834961, 69.24102020263672, 74.64913177490234, 77.0921859741211, 73.70491027832031, 74.6927490234375, 73.51960754394531, 76.43871307373047, 73.21900177001953, 72.93183135986328, 75.68218231201172, 74.4514389038086, 73.74519348144531, 74.84251403808594, 71.94361114501953, 75.30755615234375, 72.61013793945312, 75.54000854492188, 67.29603576660156, 69.77497863769531, 71.12789916992188, 67.55241394042969, 71.79352569580078, 69.26045989990234, 75.23695373535156, 72.74004364013672, 73.70716094970703, 75.26972198486328, 66.18231964111328, 72.33055877685547, 63.00920104980469, 74.35406494140625, 67.72913360595703, 65.63951110839844, 66.38382720947266, 67.02577209472656, 73.99362182617188, 74.07969665527344, 69.81304931640625, 71.16670227050781, 70.10618591308594, 70.10394287109375, 74.01439666748047, 73.272705078125, 72.68952178955078, 72.40438842773438, 77.98040008544922, 75.82210540771484, 64.91924285888672, 77.08509826660156, 70.9732666015625, 66.23484802246094, 66.85416412353516, 74.70755767822266, 65.8502426147461, 71.85380554199219, 68.87186431884766, 71.16586303710938, 71.54000091552734, 72.9721908569336, 67.2783203125, 73.7868881225586, 75.99014282226562, 70.46724700927734, 69.53003692626953, 66.99610900878906, 68.59476470947266, 70.99848937988281, 67.58637237548828, 71.84452819824219, 56.290279388427734]]\n"
          ]
        }
      ]
    },
    {
      "cell_type": "code",
      "source": [
        "topk = 5\n",
        "for i, index in enumerate(scores.argsort()[0][::-1][:topk]):\n",
        "  print(f\"取得したドキュメント{i+1}: (Score: {scores[0][index]})\")\n",
        "  print(documents[index], \"\\n\\n\")"
      ],
      "metadata": {
        "colab": {
          "base_uri": "https://localhost:8080/"
        },
        "id": "PKJdCG6H5yPo",
        "outputId": "5da574bc-8378-4be7-f701-02aaf2f1a80d"
      },
      "execution_count": 56,
      "outputs": [
        {
          "output_type": "stream",
          "name": "stdout",
          "text": [
            "取得したドキュメント1: (Score: 77.98040008544922)\n",
            "やむなく引き返したアナたちでしたが、クリストフがアナの髪の毛が凍り始めていることに気づき、クリストフの友人であるトロールたちのもとに連れていきます \n",
            "\n",
            "\n",
            "取得したドキュメント2: (Score: 77.0921859741211)\n",
            "旅の途中、アナは氷を売る山男のクリストフとその忠実なトナカイ、スヴェンに出会います \n",
            "\n",
            "\n",
            "取得したドキュメント3: (Score: 77.08509826660156)\n",
            "アナはハンス王子と思い浮かべ、クリストフはアナを連れて急いでアレンデールに戻ります \n",
            "\n",
            "\n",
            "取得したドキュメント4: (Score: 76.77472686767578)\n",
            "姉のエルサは、生まれつき氷や雪を自在に操る魔法の力を持っており、妹のアナと一緒にその力を使って遊ぶ日々を送っていました \n",
            "\n",
            "\n",
            "取得したドキュメント5: (Score: 76.43871307373047)\n",
            "この個性豊かな仲間たちと共に、アナはエルサのいる北山の氷の宮殿を目指します \n",
            "\n",
            "\n"
          ]
        }
      ]
    },
    {
      "cell_type": "code",
      "source": [
        "references = \"\\n\".join([\"* \" + documents[i] for i in scores.argsort()[0][::-1][:topk]])\n",
        "system_prompt = \"質問に回答してください。必ず「日本語で回答」すること。また、与えられる資料を参考にして回答すること。\"\n",
        "question =  f\"[参考資料]\\n{references}\\n\\n[質問] アナと雪の女王」に登場する、雪だるまの名前はなに？\"\n",
        "response = generate_output(question, system_prompt)"
      ],
      "metadata": {
        "colab": {
          "base_uri": "https://localhost:8080/"
        },
        "id": "Hci9WlqD50HQ",
        "outputId": "1d90978a-57d0-4aa0-db38-7136e76a3bd9"
      },
      "execution_count": 57,
      "outputs": [
        {
          "output_type": "stream",
          "name": "stderr",
          "text": [
            "The attention mask and the pad token id were not set. As a consequence, you may observe unexpected behavior. Please pass your input's `attention_mask` to obtain reliable results.\n",
            "Setting `pad_token_id` to `eos_token_id`:128009 for open-end generation.\n"
          ]
        }
      ]
    },
    {
      "cell_type": "code",
      "source": [
        "response"
      ],
      "metadata": {
        "colab": {
          "base_uri": "https://localhost:8080/",
          "height": 35
        },
        "id": "mO_iMvp-6I5C",
        "outputId": "04c8e8a9-9451-4d2a-9e2b-b8c6d693e4e2"
      },
      "execution_count": 58,
      "outputs": [
        {
          "output_type": "execute_result",
          "data": {
            "text/plain": [
              "'参考資料に基づいて、雪だるまの名前はスヴェンです。スヴェンはクリストフの忠実なトナカイです。'"
            ],
            "application/vnd.google.colaboratory.intrinsic+json": {
              "type": "string"
            }
          },
          "metadata": {},
          "execution_count": 58
        }
      ]
    },
    {
      "cell_type": "markdown",
      "source": [
        "### インサイドヘッド\n"
      ],
      "metadata": {
        "id": "JBSriYsE-Qng"
      }
    },
    {
      "cell_type": "code",
      "source": [
        "with open(\"/content/inside out.txt\", \"r\") as f:\n",
        "  raw_writedown = f.read()"
      ],
      "metadata": {
        "id": "npx6vZXm-XRM"
      },
      "execution_count": 109,
      "outputs": []
    },
    {
      "cell_type": "code",
      "source": [
        "# ドキュメントを用意する。\n",
        "documents = [text.strip() for text in raw_writedown.split(\"。\")]\n",
        "print(\"ドキュメントサイズ: \", len(documents))\n",
        "print(\"ドキュメントの例: \\n\", documents[42])"
      ],
      "metadata": {
        "colab": {
          "base_uri": "https://localhost:8080/"
        },
        "id": "eLW6XEKz-jLT",
        "outputId": "0985bb76-94fa-452e-94e9-de8e90ce772b"
      },
      "execution_count": 110,
      "outputs": [
        {
          "output_type": "stream",
          "name": "stdout",
          "text": [
            "ドキュメントサイズ:  88\n",
            "ドキュメントの例: \n",
            " そして家族と再会し、「本当はミネソタが好き」「前の家に帰りたい」と涙ながらに自分の本心を打ち明けたライリーに喜びと悲しみが混じった思い出が生まれ、その思い出ボールが全ての感情の島を復活させる\n"
          ]
        }
      ]
    },
    {
      "cell_type": "code",
      "source": [
        "# Retrievalの実行\n",
        "question = \"ディズニー映画「インサイドヘッド」に関して教えて\"\n",
        "\n",
        "query_embeddings = emb_model.encode([question], prompt_name=\"query\")\n",
        "document_embeddings = emb_model.encode(documents)\n",
        "\n",
        "# 各ドキュメントの類似度スコア\n",
        "scores = (query_embeddings @ document_embeddings.T) * 100\n",
        "print(scores.tolist())"
      ],
      "metadata": {
        "colab": {
          "base_uri": "https://localhost:8080/"
        },
        "id": "WUWDDVpv-kCA",
        "outputId": "05a6815b-65bb-4599-d7a1-895e57c384c7"
      },
      "execution_count": 111,
      "outputs": [
        {
          "output_type": "stream",
          "name": "stdout",
          "text": [
            "[[71.99604797363281, 72.82036590576172, 72.24185180664062, 72.9712142944336, 72.67969512939453, 71.38568115234375, 73.17573547363281, 70.40386199951172, 72.04653930664062, 71.52470397949219, 72.65802764892578, 70.99932098388672, 70.65118408203125, 72.61425018310547, 71.7345962524414, 74.59403228759766, 69.83406829833984, 73.96324920654297, 72.40596771240234, 70.08460998535156, 72.54803466796875, 73.76397705078125, 72.1924057006836, 69.9460678100586, 69.87785339355469, 70.47522735595703, 73.14948272705078, 72.36266326904297, 70.67862701416016, 71.02726745605469, 71.92675018310547, 71.62003326416016, 72.58513641357422, 72.20272827148438, 72.19515991210938, 71.44235229492188, 71.62521362304688, 71.39739227294922, 73.59555053710938, 73.2077865600586, 73.19425201416016, 70.6268081665039, 73.2479476928711, 71.24732971191406, 71.10594177246094, 85.54563903808594, 73.34747314453125, 71.83477020263672, 73.07112121582031, 68.52426147460938, 70.54220581054688, 71.02923583984375, 68.86894989013672, 68.52642059326172, 70.32637786865234, 71.34687042236328, 70.97435760498047, 70.96014404296875, 70.1640396118164, 73.45712280273438, 72.46072387695312, 69.33261108398438, 68.64678955078125, 70.40363311767578, 68.53467559814453, 71.62577819824219, 72.33588409423828, 70.51345825195312, 69.72557067871094, 70.47135925292969, 70.7490463256836, 69.90009307861328, 70.68506622314453, 71.69190979003906, 68.71604919433594, 72.307861328125, 72.50584411621094, 73.43384552001953, 69.84175109863281, 70.9351806640625, 72.46533203125, 71.8295669555664, 71.59449768066406, 71.95675659179688, 70.80378723144531, 70.77852630615234, 71.95806121826172, 61.280052185058594]]\n"
          ]
        }
      ]
    },
    {
      "cell_type": "code",
      "source": [
        "topk = 5\n",
        "for i, index in enumerate(scores.argsort()[0][::-1][:topk]):\n",
        "  print(f\"取得したドキュメント{i+1}: (Score: {scores[0][index]})\")\n",
        "  print(documents[index], \"\\n\\n\")"
      ],
      "metadata": {
        "colab": {
          "base_uri": "https://localhost:8080/"
        },
        "id": "tKL_rXpa6J5S",
        "outputId": "f97d48a5-9df6-4dc7-ca6f-4d76409ff04f"
      },
      "execution_count": 112,
      "outputs": [
        {
          "output_type": "stream",
          "name": "stdout",
          "text": [
            "取得したドキュメント1: (Score: 85.54563903808594)\n",
            "前作『インサイド・ヘッド』の出来事から2年 \n",
            "\n",
            "\n",
            "取得したドキュメント2: (Score: 74.59403228759766)\n",
            "それを阻害しようとしたヨロコビと、引き留めようとしたカナシミが揉め合ってるうちに「特別な思い出」が散らばり、「長期記憶の保管場所」へ向かうチューブに吸い込まれる \n",
            "\n",
            "\n",
            "取得したドキュメント3: (Score: 73.96324920654297)\n",
            "深い谷のような「記憶のゴミ捨て場」で司令部と隔てられ、迷路のように複雑な「長期記憶の保管場所」へ飛ばされてしまったヨロコビとカナシミは、そこをくぐり抜けて「性格の島」から司令部へ帰ろうとする \n",
            "\n",
            "\n",
            "取得したドキュメント4: (Score: 73.76397705078125)\n",
            "ヨロコビとカナシミは遠回りを強いられ「友情の島」を通ろうとするが、ミネソタでの親友メグに新しい友達ができたと知ったライリーがカッとなった瞬間、「友情の島」まで崩れ落ちてしまった \n",
            "\n",
            "\n",
            "取得したドキュメント5: (Score: 73.59555053710938)\n",
            "ヨロコビが絶望に暮れながら手元の特別な思い出を眺めていると、ある思い出に悲しみと喜びが混じっていることに気付く \n",
            "\n",
            "\n"
          ]
        }
      ]
    },
    {
      "cell_type": "code",
      "source": [
        "references = \"\\n\".join([\"* \" + documents[i] for i in scores.argsort()[0][::-1][:topk]])\n",
        "system_prompt = \"質問に回答してください。必ず「日本語で回答」すること。また、与えられる資料を参考にして回答すること。\"\n",
        "question =  f\"[参考資料]\\n{references}\\n\\n[質問] ディズニー映画「インサイドヘッド」に関して教えて\"\n",
        "response = generate_output2(question, system_prompt)"
      ],
      "metadata": {
        "colab": {
          "base_uri": "https://localhost:8080/"
        },
        "id": "xLOz7iXj-ieZ",
        "outputId": "066ad1a4-efba-4e7d-c7bc-86a7ac188b50"
      },
      "execution_count": 113,
      "outputs": [
        {
          "output_type": "stream",
          "name": "stderr",
          "text": [
            "The attention mask and the pad token id were not set. As a consequence, you may observe unexpected behavior. Please pass your input's `attention_mask` to obtain reliable results.\n",
            "Setting `pad_token_id` to `eos_token_id`:128009 for open-end generation.\n"
          ]
        }
      ]
    },
    {
      "cell_type": "code",
      "source": [
        "print(response)"
      ],
      "metadata": {
        "colab": {
          "base_uri": "https://localhost:8080/"
        },
        "id": "SY4iaFzi-ywG",
        "outputId": "44772c92-ab2b-4aea-c4d9-d167b2f85b72"
      },
      "execution_count": 114,
      "outputs": [
        {
          "output_type": "stream",
          "name": "stdout",
          "text": [
            "日本語で回答します。\n",
            "\n",
            "「インサイド・ヘッド」はディズニー映画の題材であり、前作の出来事から2年が経過した後、ヨロコビとカナシミが「特別な思い出」が散らばり、「長期記憶の保管場所」へ吸い込まれるというストーリーが展開されます。\n",
            "\n",
            "その後、ヨロコビとカナシミは「記憶のゴミ捨て場」で迷路のように複雑な「長期記憶の保管場所」へ飛ばされ、「性格の島」から司令部へ帰ろうとするが、途中で「友情の島」に到達し、新しい友達ができたと知ったライリーがカッとなった瞬間、「友情の島」まで崩れ落ちてしまう。\n",
            "\n",
            "ヨロコビは絶望に暮れながら手元の特別な思い出を眺めていると、ある思い出に悲しみと喜びが混じっていることに気付くという展開が描かれます。\n"
          ]
        }
      ]
    },
    {
      "cell_type": "markdown",
      "source": [
        "まあ全体名流れはだいぶ抑えているので及第点\n",
        "\n",
        "ただインサイドヘッド2の内容も入っており、冒頭の部分が違和感のあるものになっているのがよくない"
      ],
      "metadata": {
        "id": "rA4M7CsQ_Ahq"
      }
    },
    {
      "cell_type": "code",
      "source": [
        "# Retrievalの実行\n",
        "question = \"ディズニー映画インサイドヘッドで現在までに登場している感情のキャラクターを教えて\"\n",
        "\n",
        "query_embeddings = emb_model.encode([question], prompt_name=\"query\")\n",
        "document_embeddings = emb_model.encode(documents)\n",
        "\n",
        "# 各ドキュメントの類似度スコア\n",
        "scores = (query_embeddings @ document_embeddings.T) * 100\n",
        "print(scores.tolist())"
      ],
      "metadata": {
        "colab": {
          "base_uri": "https://localhost:8080/"
        },
        "id": "xw3ixGqw-zo2",
        "outputId": "348c27ec-65ed-4405-90e1-d44e2772d40f"
      },
      "execution_count": 115,
      "outputs": [
        {
          "output_type": "stream",
          "name": "stdout",
          "text": [
            "[[70.69475555419922, 76.75619506835938, 73.76100158691406, 78.34037780761719, 73.34410858154297, 72.26178741455078, 74.60418701171875, 70.3356704711914, 70.32308959960938, 72.22406005859375, 73.1828842163086, 69.47567749023438, 69.64305877685547, 72.95466613769531, 72.13855743408203, 73.14593505859375, 67.9430923461914, 72.97962951660156, 73.95629119873047, 70.55797576904297, 71.66218566894531, 72.4122314453125, 71.4085922241211, 70.20298767089844, 70.7712173461914, 69.10167694091797, 71.6400375366211, 70.54883575439453, 69.67788696289062, 71.14396667480469, 72.07239532470703, 69.81017303466797, 70.69886016845703, 70.13787078857422, 71.38512420654297, 69.44666290283203, 69.7607192993164, 74.6383285522461, 75.1597900390625, 73.37098693847656, 70.43350982666016, 70.12528991699219, 75.558349609375, 74.91167449951172, 71.27359008789062, 81.3674545288086, 71.59246063232422, 68.53385162353516, 76.95418548583984, 67.00163269042969, 71.32134246826172, 71.73860931396484, 68.80903625488281, 72.32904052734375, 71.36424255371094, 71.48675537109375, 72.56253051757812, 71.95686340332031, 67.96772766113281, 77.17964935302734, 77.08409118652344, 74.9894790649414, 67.73524475097656, 75.79536437988281, 68.23558807373047, 72.48299407958984, 72.37317657470703, 71.3279037475586, 68.76851654052734, 70.85147094726562, 69.16799926757812, 68.98894500732422, 69.3277587890625, 72.81416320800781, 68.54664611816406, 71.07535552978516, 70.73048400878906, 74.70628356933594, 69.15646362304688, 74.13529205322266, 72.48401641845703, 72.54483032226562, 72.15010833740234, 71.0266342163086, 70.07009887695312, 70.62998962402344, 72.54653930664062, 58.36834716796875]]\n"
          ]
        }
      ]
    },
    {
      "cell_type": "code",
      "source": [
        "topk = 5\n",
        "for i, index in enumerate(scores.argsort()[0][::-1][:topk]):\n",
        "  print(f\"取得したドキュメント{i+1}: (Score: {scores[0][index]})\")\n",
        "  print(documents[index], \"\\n\\n\")"
      ],
      "metadata": {
        "colab": {
          "base_uri": "https://localhost:8080/"
        },
        "id": "EdBHq95z_i03",
        "outputId": "eb601387-8016-428c-f984-7cdc3f728ea3"
      },
      "execution_count": 116,
      "outputs": [
        {
          "output_type": "stream",
          "name": "stdout",
          "text": [
            "取得したドキュメント1: (Score: 81.3674545288086)\n",
            "前作『インサイド・ヘッド』の出来事から2年 \n",
            "\n",
            "\n",
            "取得したドキュメント2: (Score: 78.34037780761719)\n",
            "彼ら5つの感情はヨロコビをリーダーとして、ライリーの頭の中にある「司令部」で彼女の人生を幸せにするために日々奮闘している \n",
            "\n",
            "\n",
            "取得したドキュメント3: (Score: 77.17964935302734)\n",
            "一方、ライリーの頭の司令部には新たなる感情が誕生していました \n",
            "\n",
            "\n",
            "取得したドキュメント4: (Score: 77.08409118652344)\n",
            "“不安”を司るシンパイ、“嫉妬”を司るイイナー、“羞恥心”を司るハズカシ、“倦怠感”を司るダリィです \n",
            "\n",
            "\n",
            "取得したドキュメント5: (Score: 76.95418548583984)\n",
            "ライリーの頭の中の“司令部”では彼女の人格形成を司る5つの感情、前向きでポジティブなヨロコビ、どこまでもネガティブなカナシミ、短気で怒りっぽいイカリ、嫌なことを遠ざけるのが役割のムカムカ、危険や恐怖から身を守ることが役割のビビリがライリーに指示を出しており、ホッケーの試合に出場するライリーをアシストしていました \n",
            "\n",
            "\n"
          ]
        }
      ]
    },
    {
      "cell_type": "code",
      "source": [
        "references = \"\\n\".join([\"* \" + documents[i] for i in scores.argsort()[0][::-1][:topk]])\n",
        "system_prompt = \"質問に回答してください。必ず「日本語で回答」すること。また、与えられる資料を参考にして回答すること。\"\n",
        "question =  f\"[参考資料]\\n{references}\\n\\n[質問] ディズニー映画インサイドヘッドで現在までに登場している感情のキャラクターを教えて\"\n",
        "response = generate_output2(question, system_prompt)"
      ],
      "metadata": {
        "colab": {
          "base_uri": "https://localhost:8080/"
        },
        "id": "Q7xlNAK8_kW4",
        "outputId": "6163c1ba-95b8-430f-a13c-335178752321"
      },
      "execution_count": 117,
      "outputs": [
        {
          "output_type": "stream",
          "name": "stderr",
          "text": [
            "The attention mask and the pad token id were not set. As a consequence, you may observe unexpected behavior. Please pass your input's `attention_mask` to obtain reliable results.\n",
            "Setting `pad_token_id` to `eos_token_id`:128009 for open-end generation.\n"
          ]
        }
      ]
    },
    {
      "cell_type": "code",
      "source": [
        "print(response)"
      ],
      "metadata": {
        "colab": {
          "base_uri": "https://localhost:8080/"
        },
        "id": "gv150PZs_qHt",
        "outputId": "4c7bba73-4d03-4b8e-8198-c28450c235ab"
      },
      "execution_count": 118,
      "outputs": [
        {
          "output_type": "stream",
          "name": "stdout",
          "text": [
            "インサイド・ヘッドの前作で登場した5つの感情のキャラクターは、以下の通りです。\n",
            "\n",
            "1. ヨロコビ (Joy) - ポジティブで前向きの感情\n",
            "2. カナシミ (Sadness) - ネガティブで悲しい感情\n",
            "3. イカリ (Anger) - 短気で怒りっぽい感情\n",
            "4. ムカムカ (Disgust) - 嫌なことを遠ざけるのが役割の感情\n",
            "5. ビビリ (Fear) - 危険や恐怖から身を守ることが役割の感情\n",
            "\n",
            "また、新たに登場した感情のキャラクターとして、以下の5つが挙げられます。\n",
            "\n",
            "1. シンパイ (Anxiety) - 不安を司る感情\n",
            "2. イイナー (Envy) - 嫉妬を司る感情\n",
            "3. ハズカシ (Shame) - 羞恥心を司る感情\n",
            "4. ダリィ (Boredom) - 倦怠感を司る感情\n",
            "\n",
            "以上、インサイド・ヘッドの感情のキャラクターを紹介しました。\n"
          ]
        }
      ]
    },
    {
      "cell_type": "markdown",
      "source": [
        "### ディズニーとピクサーの違い\n"
      ],
      "metadata": {
        "id": "dhTAQnHgCZWV"
      }
    },
    {
      "cell_type": "code",
      "source": [
        "with open(\"/content/diff_disnet and pixer.txt\", \"r\") as f:\n",
        "  raw_writedown = f.read()"
      ],
      "metadata": {
        "id": "A92MI4p0_slv"
      },
      "execution_count": 119,
      "outputs": []
    },
    {
      "cell_type": "code",
      "source": [
        "# ドキュメントを用意する。\n",
        "documents = [text.strip() for text in raw_writedown.split(\"。\")]\n",
        "print(\"ドキュメントサイズ: \", len(documents))\n",
        "print(\"ドキュメントの例: \\n\", documents[42])"
      ],
      "metadata": {
        "colab": {
          "base_uri": "https://localhost:8080/"
        },
        "id": "Nz3jL0q_Cl9H",
        "outputId": "cc3f8d28-5ab3-460c-d402-b7cdc6396e1b"
      },
      "execution_count": 120,
      "outputs": [
        {
          "output_type": "stream",
          "name": "stdout",
          "text": [
            "ドキュメントサイズ:  52\n",
            "ドキュメントの例: \n",
            " ジョン・ラセターはあるインタビューでピクサー映画についてこう答えました\n"
          ]
        }
      ]
    },
    {
      "cell_type": "code",
      "source": [
        "# Retrievalの実行\n",
        "question = \"ディズニーとピクサーの違いについて教えて\"\n",
        "\n",
        "query_embeddings = emb_model.encode([question], prompt_name=\"query\")\n",
        "document_embeddings = emb_model.encode(documents)\n",
        "\n",
        "# 各ドキュメントの類似度スコア\n",
        "scores = (query_embeddings @ document_embeddings.T) * 100\n",
        "print(scores.tolist())"
      ],
      "metadata": {
        "colab": {
          "base_uri": "https://localhost:8080/"
        },
        "id": "DCN3gUnWCoB4",
        "outputId": "237ecae1-9714-4bed-cdb1-fcc2b28ca6f8"
      },
      "execution_count": 121,
      "outputs": [
        {
          "output_type": "stream",
          "name": "stdout",
          "text": [
            "[[89.8675765991211, 79.74027252197266, 69.57640075683594, 77.90788269042969, 88.58875274658203, 80.5750503540039, 81.41664123535156, 75.16128540039062, 88.26056671142578, 85.68116760253906, 83.69738006591797, 85.95860290527344, 86.10472869873047, 81.15034484863281, 72.28981018066406, 79.84545135498047, 74.86311340332031, 70.91935729980469, 79.96627807617188, 78.491943359375, 81.04409790039062, 77.6712417602539, 80.1758041381836, 80.07783508300781, 70.33513641357422, 68.0876235961914, 84.94292449951172, 73.96065521240234, 81.21971130371094, 81.50310516357422, 71.49153137207031, 84.13323974609375, 83.69738006591797, 82.7682113647461, 84.28376770019531, 77.88427734375, 70.86446380615234, 76.29939270019531, 78.47893524169922, 75.48715209960938, 84.75218200683594, 75.29816436767578, 79.37081146240234, 78.3371353149414, 73.8866958618164, 81.09334564208984, 77.65509033203125, 78.30094146728516, 81.52752685546875, 80.5530776977539, 85.74539184570312, 60.29546356201172]]\n"
          ]
        }
      ]
    },
    {
      "cell_type": "code",
      "source": [
        "topk = 5\n",
        "for i, index in enumerate(scores.argsort()[0][::-1][:topk]):\n",
        "  print(f\"取得したドキュメント{i+1}: (Score: {scores[0][index]})\")\n",
        "  print(documents[index], \"\\n\\n\")"
      ],
      "metadata": {
        "colab": {
          "base_uri": "https://localhost:8080/"
        },
        "id": "uPmgeOU3CuFX",
        "outputId": "5a3dfa61-fd26-4bcd-a4a3-42ab6a55118b"
      },
      "execution_count": 122,
      "outputs": [
        {
          "output_type": "stream",
          "name": "stdout",
          "text": [
            "取得したドキュメント1: (Score: 89.8675765991211)\n",
            "結論から言ってしまうとディズニーとピクサーの違いは「製作スタジオ(会社)の違い」です \n",
            "\n",
            "\n",
            "取得したドキュメント2: (Score: 88.58875274658203)\n",
            "つまり、このページで扱うディズニーとピクサーの違いは正式にいうと\n",
            "『ウォルト・ディズニー・アニメーション・スタジオ』と\n",
            "『ピクサー・アニメーション・スタジオ』の違いという訳です \n",
            "\n",
            "\n",
            "取得したドキュメント3: (Score: 88.26056671142578)\n",
            "まとめるとディズニー(ウォルト・ディズニー・アニメーション・スタジオ)とピクサーは同じ『ウォルト・ディズニー・カンパニー』を親としている子会社同士ですが、映画を製作するスタジオ(会社)としては別ということです \n",
            "\n",
            "\n",
            "取得したドキュメント4: (Score: 86.10472869873047)\n",
            "ここではピクサーがディズニーの傘下に入るまでの歴史を見ていきましょう \n",
            "\n",
            "\n",
            "取得したドキュメント5: (Score: 85.95860290527344)\n",
            "そんな別の会社だったディズニーとピクサーですが全くの無関係だった訳ではありません \n",
            "\n",
            "\n"
          ]
        }
      ]
    },
    {
      "cell_type": "code",
      "source": [
        "references = \"\\n\".join([\"* \" + documents[i] for i in scores.argsort()[0][::-1][:topk]])\n",
        "system_prompt = \"質問に回答してください。必ず「日本語で回答」すること。また、与えられる資料を参考にして回答すること。\"\n",
        "question =  f\"[参考資料]\\n{references}\\n\\n[質問] ディズニーとピクサーの違いについて教えて\"\n",
        "response = generate_output(question, system_prompt)"
      ],
      "metadata": {
        "colab": {
          "base_uri": "https://localhost:8080/"
        },
        "id": "3bCIRvuNCwO2",
        "outputId": "a0a31e0c-6ab9-4fbb-bf24-8139e83366de"
      },
      "execution_count": 123,
      "outputs": [
        {
          "output_type": "stream",
          "name": "stderr",
          "text": [
            "The attention mask and the pad token id were not set. As a consequence, you may observe unexpected behavior. Please pass your input's `attention_mask` to obtain reliable results.\n",
            "Setting `pad_token_id` to `eos_token_id`:128009 for open-end generation.\n"
          ]
        }
      ]
    },
    {
      "cell_type": "code",
      "source": [
        "print(response)"
      ],
      "metadata": {
        "colab": {
          "base_uri": "https://localhost:8080/"
        },
        "id": "JpRx-r1YC1od",
        "outputId": "ac58dcb4-6ffe-47e7-a961-b062cd0a81b2"
      },
      "execution_count": 124,
      "outputs": [
        {
          "output_type": "stream",
          "name": "stdout",
          "text": [
            "ディズニーとピクサーの違いは、製作スタジオ(会社)の違いです。正式には、『ウォルト・ディズニー・アニメーション・スタジオ』と『ピクサー・アニメーション・スタジオ』の違いです。両者は同じ『ウォルト・ディズニー・カンパニー』を親としている子会社同士ですが、映画を製作するスタジオ(会社)としては別の存在です。\n"
          ]
        }
      ]
    },
    {
      "cell_type": "markdown",
      "source": [
        "# 実装の感想\n",
        "\n",
        "\n",
        "全体として、RAG実装前よりも正確な情報かつ入れたテキストファイルにもよるが正確な結果を返していることがわかりRAG手法が効果的であることが分かった\n",
        "\n",
        "ただ、アナ雪のオラフのようにテキストファイルの中に似た属性をもつものが存在するとどうしてもより質問に対する類似度が高い方を優先してしまう傾向があることが分かったのでRAGの実装方法及び、テキストファイル内の情報の均一性などが非常に重要であると感じた\n",
        "\n",
        "また、ただ参照してきたサイトの文書を丸ごと持ってきただけなのにもかかわらず「インサイドヘッド」のようにキャラクターの出現を明確に分けることもできるようになっておりその点に関してはLLMのすごさを感じたのでこれから実際に自分が内部でなにを行っているかなどをしっかりと追っていけるようになりたいと感じた\n"
      ],
      "metadata": {
        "id": "tipoeM16EghU"
      }
    },
    {
      "cell_type": "markdown",
      "source": [
        "# これから\n",
        "\n",
        "今回の実装で学んだことは主に下記の二つ\n",
        "\n",
        "1. RAGの実装方法の多様さと懸念点\n",
        "\n",
        "2. LLMへの質問を明確にする根拠\n",
        "\n",
        "\n",
        "この二つを今回自分で実装することでさらに、理解が深まりました\n",
        "\n",
        "特に、最後の方ではなかなかうまくいかない点もあったので授業資料を負いつつほかの講座もとることでなんとか解決手法をこれから探していければと感じました\n",
        "\n",
        "RAGに関していえば、具体的にはどのような情報を読み込ませることが重要なのだろうかもしくは莫大な量のテキストファイルさえあればいいのかなど基本的なLLMの知識がないのでそこをまず学習しようと感じました\n",
        "\n",
        "また、自分自身がLLMを実装する機会もしくはさらに先のAIモデルを実装することがあるかもしれないのでその起点になった気がしました\n",
        "\n"
      ],
      "metadata": {
        "id": "GtBWl_s0GIXf"
      }
    },
    {
      "cell_type": "code",
      "source": [],
      "metadata": {
        "id": "eYu1YgVDGH9P"
      },
      "execution_count": null,
      "outputs": []
    }
  ]
}