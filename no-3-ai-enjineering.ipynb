{
  "nbformat": 4,
  "nbformat_minor": 0,
  "metadata": {
    "colab": {
      "provenance": [],
      "toc_visible": true,
      "machine_shape": "hm",
      "gpuType": "A100"
    },
    "kernelspec": {
      "name": "python3",
      "display_name": "Python 3"
    },
    "language_info": {
      "name": "python"
    },
    "accelerator": "GPU"
  },
  "cells": [
    {
      "cell_type": "markdown",
      "source": [
        "# 課題の概要\n",
        "\n",
        "この宿題では、講義で学んだRAG(Retrieval-Augmented Generation)技術を用いて、LLMの生成\n",
        "内容を改善する実践的な取り組みを行います。演習で利用したコードをベースに、独自の質問と参照文書を用\n",
        "いて実験を行い、RAGの効果を定量的・定性的に評価します。\n",
        "この宿題を通じて、「テストデータの作成」と「改善のプロセス」について理解を深め、実際のアプリケーション開発\n",
        "に役立てることを目指します。\n",
        "\n"
      ],
      "metadata": {
        "id": "vrOVSydXC8n3"
      }
    },
    {
      "cell_type": "markdown",
      "source": [
        "## 内容\n",
        "\n",
        "宿題の内容\n",
        "1. 独自の質問と参照資料の作成\n",
        "- 自分で5つ以上の質問文を考案してください\n",
        "- 各質問に対する回答を含む参照文書を用意してください\n",
        "- 少なくとも1つは、LLMが単体では正確に答えられないような知識を含む質問にしてください\n",
        "2. 実験の実施\n",
        "- 演習で使用したコードをベースに、以下の2つの方法で回答を生成してください\n",
        "  - ベースのLLM(RAGなし)での回答生成\n",
        "  -  RAGを組み合わせた回答生成\n",
        "- 回答の評価では、単純なYes/No判定でも良いです\n",
        "  - より詳細な評価指標も検討していただけるとなお良いです\n",
        "\n",
        "3. 結果分析と考察\n",
        "\n",
        "- 生成した結果をまとめ、RAGありとRAGなしの差異を分析してください\n",
        "- RAGによって回答が改善したケースと悪化したケースの両方について考察してください- 結果に基づいて、RAGの有効性と限界についての考察を記述してください"
      ],
      "metadata": {
        "id": "rNgYrKtoDbVZ"
      }
    },
    {
      "cell_type": "markdown",
      "source": [
        "## 扱う条件\n",
        "\n",
        "**<使用するモデル>**\n",
        "\n",
        "2024年4月リリースのMeta-Llama-3-8B-Instructを使用する\n",
        "\n",
        "\n",
        "**<参考文献>**\n",
        "\n",
        "・ディズニー公式\n",
        "\n",
        "・Wikipedia\n",
        "\n",
        "・[映画『インサイド・ヘッド』あらすじ&ネタバレ！キャラクター、声優キャスト、トリビアも♪\n",
        "](https://castel.jp/p/4118)\n",
        "\n",
        "\n",
        "・[アナと雪の女王のあらすじをネタバレ解説!最後の結末と感動の感想まで!](https://up-tsukuba.com/frozen-summary/)\n",
        "\n",
        "・[【作品、歴史から見る】ディズニーとピクサーの違いとは](https://liclog.net/disney-pixar-difference/)\n",
        "\n",
        "\n",
        "・[映画「インサイド・ヘッド２」ネタバレあらすじ結末と感想](https://eiga-watch.com/inside-out-2/)\n"
      ],
      "metadata": {
        "id": "Q-64Q-bNNzw9"
      }
    },
    {
      "cell_type": "markdown",
      "source": [
        "## 質問概要\n",
        "\n",
        "\n",
        "・ディズニーに関する質問\n",
        "\n",
        "\n",
        "1. アナと雪の女王」に登場する、魔法で作られた雪だるまの名前はなに？\n",
        "\n",
        "  解答：オラフ\n",
        "\n",
        "2. 「アナと雪の女王」でエピソードが展開される国の名前は何ですか？\n",
        "\n",
        "  解答：アレンデール\n",
        "\n",
        "\n",
        "\n",
        "3. ディズニー映画「インサイドヘッド」に関して教えて\n",
        "\n",
        "  期待する解答：\n",
        "\n",
        "  主人公少女ライリーの頭の中にいるヨロコビ、カナシミ、イカリ、ムカムカ、ビビリ5つの感情が繰り広げる冒険と1人の少女の成長を描いたストーリー\n",
        "\n",
        "4. ディズニー映画インサイドヘッドで現在までに登場している感情のキャラクターを教えて\n",
        "\n",
        "  解答：\n",
        "  \n",
        "  ヨロコビ、カナシミ、イカリ、ムカムカ、ビビリ\n",
        "\n",
        "  シンパイ、イイナ、ハズカシ、ダリィ、ナツカシ\n",
        "\n",
        "5. ディズニーとピクサーの違いを教えて\n",
        "\n",
        "  解答の評価ポイント：\n",
        "\n",
        "  設立年\n",
        "\n",
        "  共通する点\n",
        "\n",
        "  例)\n",
        "\n",
        "  親会社が、ウォルトディズニーカンパニーであることなど\n",
        "\n",
        "  異なる点\n",
        "\n",
        "  例)\n",
        "\n",
        "  名前・コンセプトなど\n",
        "\n",
        "  この二つが明確にわけられているかどうかを判断基準として定性的に評価する}"
      ],
      "metadata": {
        "id": "SF6z5scSE4Wr"
      }
    },
    {
      "cell_type": "code",
      "execution_count": null,
      "metadata": {
        "id": "bzDUjLaAC6LY"
      },
      "outputs": [],
      "source": [
        "!pip install --upgrade transformers\n",
        "!pip install google-colab-selenium\n",
        "!pip install bitsandbytes"
      ]
    },
    {
      "cell_type": "code",
      "source": [
        "# HuggingFace Login\n",
        "from huggingface_hub import notebook_login\n",
        "\n",
        "notebook_login()"
      ],
      "metadata": {
        "id": "JLZW0XeSI5aF"
      },
      "execution_count": null,
      "outputs": []
    },
    {
      "cell_type": "code",
      "source": [
        "# CUDAが利用可能ならGPUを、それ以外ならCPUをデバイスとして設定\n",
        "import torch\n",
        "device = torch.device(\"cuda\" if torch.cuda.is_available() else \"cpu\")"
      ],
      "metadata": {
        "id": "7KQOSTo3I8vv"
      },
      "execution_count": null,
      "outputs": []
    },
    {
      "cell_type": "code",
      "source": [
        "# モデル(Llama3)の読み込み\n",
        "\n",
        "from transformers import AutoModelForCausalLM, AutoTokenizer, BitsAndBytesConfig\n",
        "\n",
        "model_name = \"meta-llama/Meta-Llama-3-8B-Instruct\"\n",
        "tokenizer = AutoTokenizer.from_pretrained(model_name)\n",
        "\n",
        "bnb_config = BitsAndBytesConfig(\n",
        "    load_in_4bit=True,\n",
        "    bnb_4bit_compute_dtype=torch.float16,\n",
        "    bnb_4bit_quant_type=\"nf4\",\n",
        "    bnb_4bit_use_double_quant=False,\n",
        ")\n",
        "\n",
        "model = AutoModelForCausalLM.from_pretrained(\n",
        "            model_name,\n",
        "            device_map=\"auto\",\n",
        "            quantization_config=bnb_config,\n",
        "            torch_dtype=torch.bfloat16,\n",
        "        )"
      ],
      "metadata": {
        "collapsed": true,
        "id": "yD_BM9bzI9OY"
      },
      "execution_count": null,
      "outputs": []
    },
    {
      "cell_type": "code",
      "source": [
        "def generate_output(query, system_prompt=None):\n",
        "  if system_prompt is None:\n",
        "    messages = [\n",
        "        {\"role\": \"user\", \"content\": query},\n",
        "    ]\n",
        "  else:\n",
        "    messages = [\n",
        "        {\"role\": \"system\", \"content\": system_prompt},\n",
        "        {\"role\": \"user\", \"content\": query},\n",
        "    ]\n",
        "  input_ids = tokenizer.apply_chat_template(\n",
        "      messages,\n",
        "      add_generation_prompt=True,\n",
        "      return_tensors=\"pt\"\n",
        "  ).to(model.device)\n",
        "\n",
        "  terminators = [\n",
        "      tokenizer.eos_token_id,\n",
        "      tokenizer.convert_tokens_to_ids(\"<|eot_id|>\")\n",
        "  ]\n",
        "\n",
        "  outputs = model.generate(\n",
        "      input_ids,\n",
        "      max_new_tokens=400,\n",
        "      eos_token_id=terminators,\n",
        "      do_sample=False,\n",
        "      # temperature=0.6, # If do_sample=True\n",
        "      # top_p=0.9,  # If do_sample=True\n",
        "  )\n",
        "\n",
        "  response = outputs[0][input_ids.shape[-1]:]\n",
        "  return tokenizer.decode(response, skip_special_tokens=True)"
      ],
      "metadata": {
        "id": "fh2xpMSzJB4Z"
      },
      "execution_count": null,
      "outputs": []
    },
    {
      "cell_type": "markdown",
      "source": [
        "## 1～5に関して質問を行う\n"
      ],
      "metadata": {
        "id": "9sdwVasDanV0"
      }
    },
    {
      "cell_type": "markdown",
      "source": [
        "### 1 アナと雪の女王」に登場する、魔法で作られた雪だるまの名前はなに？"
      ],
      "metadata": {
        "id": "WWgofRljbC_b"
      }
    },
    {
      "cell_type": "code",
      "source": [
        "system_prompt = \"質問に回答してください。必ず「日本語で回答」すること。\"\n",
        "question =  \"アナと雪の女王」に登場する、魔法で作られた雪だるまの名前はなに？\"\n",
        "response = generate_output(question, system_prompt)"
      ],
      "metadata": {
        "id": "VbUcoEUgJGP9"
      },
      "execution_count": null,
      "outputs": []
    },
    {
      "cell_type": "code",
      "source": [
        "print(response)"
      ],
      "metadata": {
        "id": "JxRnR5s5JJtf"
      },
      "execution_count": null,
      "outputs": []
    },
    {
      "cell_type": "markdown",
      "source": [
        "### 2.「アナと雪の女王」でエピソードが展開される国の名前は何ですか？"
      ],
      "metadata": {
        "id": "8_7sKaADbFDS"
      }
    },
    {
      "cell_type": "code",
      "source": [
        "system_prompt = \"質問に回答してください。必ず「日本語で回答」すること。\"\n",
        "question =  \"「アナと雪の女王」でエピソードが展開される国の名前は何ですか？\"\n",
        "response = generate_output(question, system_prompt)"
      ],
      "metadata": {
        "id": "UYsKNvVgLxm_"
      },
      "execution_count": null,
      "outputs": []
    },
    {
      "cell_type": "code",
      "source": [
        "print(response)"
      ],
      "metadata": {
        "id": "pY45MymfbeQl"
      },
      "execution_count": null,
      "outputs": []
    },
    {
      "cell_type": "markdown",
      "source": [
        "### 3.ディズニー映画「インサイドヘッド」に関して教えて"
      ],
      "metadata": {
        "id": "L1nM558Ebj-o"
      }
    },
    {
      "cell_type": "code",
      "source": [
        "system_prompt = \"質問に回答してください。必ず「日本語で回答」すること。\"\n",
        "question =  \"ディズニー映画「インサイドヘッド」に関して教えて\"\n",
        "response = generate_output(question, system_prompt)"
      ],
      "metadata": {
        "id": "UMYzMW2qbgaz"
      },
      "execution_count": null,
      "outputs": []
    },
    {
      "cell_type": "code",
      "source": [
        "print(response)"
      ],
      "metadata": {
        "id": "4gVlVHANbqk1"
      },
      "execution_count": null,
      "outputs": []
    },
    {
      "cell_type": "markdown",
      "source": [
        "### 4.ディズニー映画インサイドヘッドで現在までに登場している感情のキャラクターを教えて"
      ],
      "metadata": {
        "id": "2LelBfwhbv2E"
      }
    },
    {
      "cell_type": "code",
      "source": [
        "system_prompt = \"質問に回答してください。必ず「日本語で回答」すること。\"\n",
        "question =  \"ディズニー映画ディズニー映画インサイドヘッドで現在までに登場している感情のキャラクターを教えて\"\n",
        "response = generate_output(question, system_prompt)"
      ],
      "metadata": {
        "id": "DTAWwX97bsij"
      },
      "execution_count": null,
      "outputs": []
    },
    {
      "cell_type": "code",
      "source": [
        "print(response)"
      ],
      "metadata": {
        "id": "mmRuXVaHcNs2"
      },
      "execution_count": null,
      "outputs": []
    },
    {
      "cell_type": "markdown",
      "source": [
        "### 5 ディズニーとピクサーの違いを教えて"
      ],
      "metadata": {
        "id": "5mBAPq-0cS3W"
      }
    },
    {
      "cell_type": "code",
      "source": [
        "def generate_output2(query, system_prompt=None):\n",
        "  if system_prompt is None:\n",
        "    messages = [\n",
        "        {\"role\": \"user\", \"content\": query},\n",
        "    ]\n",
        "  else:\n",
        "    messages = [\n",
        "        {\"role\": \"system\", \"content\": system_prompt},\n",
        "        {\"role\": \"user\", \"content\": query},\n",
        "    ]\n",
        "  input_ids = tokenizer.apply_chat_template(\n",
        "      messages,\n",
        "      add_generation_prompt=True,\n",
        "      return_tensors=\"pt\"\n",
        "  ).to(model.device)\n",
        "\n",
        "  terminators = [\n",
        "      tokenizer.eos_token_id,\n",
        "      tokenizer.convert_tokens_to_ids(\"<|eot_id|>\")\n",
        "  ]\n",
        "\n",
        "  outputs = model.generate(\n",
        "      input_ids,\n",
        "      max_new_tokens=2000,\n",
        "      eos_token_id=terminators,\n",
        "      do_sample=False,\n",
        "      # temperature=0.6, # If do_sample=True\n",
        "      # top_p=0.9,  # If do_sample=True\n",
        "  )\n",
        "\n",
        "  response = outputs[0][input_ids.shape[-1]:]\n",
        "  return tokenizer.decode(response, skip_special_tokens=True)"
      ],
      "metadata": {
        "id": "5h8MawdPc4DR"
      },
      "execution_count": null,
      "outputs": []
    },
    {
      "cell_type": "code",
      "source": [
        "system_prompt = \"質問に回答してください。必ず「日本語で回答」すること。\"\n",
        "question =  \"ディズニーとピクサーの違いを教えて\"\n",
        "response = generate_output2(question, system_prompt)"
      ],
      "metadata": {
        "id": "_OjT22plcRiA"
      },
      "execution_count": null,
      "outputs": []
    },
    {
      "cell_type": "code",
      "source": [
        "response"
      ],
      "metadata": {
        "id": "ayHp1hpVcqnY"
      },
      "execution_count": null,
      "outputs": []
    },
    {
      "cell_type": "markdown",
      "source": [
        "# 結果\n",
        "\n",
        "\n",
        "**1. アナと雪の女王」に登場する、魔法で作られた雪だるまの名前はなに？**\n",
        "\n",
        "回答：\n",
        "\n",
        "「アナと雪の女王」シリーズの魔法で作られた雪だるまの名前は「サマンサ」。\n",
        "\n",
        "**2.「アナと雪の女王」でエピソードが展開される国の名前は何ですか？**\n",
        "\n",
        "回答：\n",
        "\n",
        "アナと雪の女王」シリーズでは、エピソードが展開される国の名前は「アレンデール」です。\n",
        "\n",
        "\n",
        "**3.ディズニー映画「インサイドヘッド」に関して教えて**\n",
        "\n",
        "回答：\n",
        "\n",
        "「インサイドヘッド」は、2015年に公開されたアメリカン・アニメーション映画「Inside Out」です。監督はピーター・ドクター、製作はピクサー・アニメーション・スタジオ。\n",
        "\n",
        "この映画は、11歳の少女メイの脳内で起きる想像上の世界を描きます。メイの脳内には5つのエモーション（感情）が存在し、それぞれが彼女の生活に影響を与えています。5つのエモーションは、ジョー（喜び）、バリー（怒り）、ピーター（悲しみ）、サリー（哀しみ）、リグレット（後悔）です。\n",
        "\n",
        "この映画は、子供の心の世界を描き、子供たちが経験する様々な感情を描きました。同時に、映画は、子供たちが成長する過程で必要な感情のバランスを描きました。\n",
        "\n",
        "「インサイドヘッド」は、2015年のアカデミー賞で長編アニメーション映画賞を受賞し、世界中で大きな人気を博しました。\n",
        "\n",
        "\n",
        "**4.ディズニー映画インサイドヘッドで現在までに登場している感情のキャラクターを教えて**\n",
        "\n",
        "回答：\n",
        "\n",
        "「Inside Out」は2015年に公開されたピクサー製作のアニメーション映画です。映画の主人公は11歳の少女、リリーの脳内に存在する5つの感情のキャラクターです。\n",
        "\n",
        "以下は、映画「Inside Out」に登場する感情のキャラクターの名前と性格です。\n",
        "\n",
        "1. **Joy**（ハッピー）：リリーの脳内で最も強い感情。彼女は常にリリーを笑顔で見つめ、彼女の幸福を目指します。\n",
        "2. **Sadness**（哀しみ）：リリーの脳内で2番目の強い感情。彼女はリリーの悲しみを理解し、彼女を慰めるために努力します。\n",
        "3. **Anger**（怒り）：リリーの脳内で3番目の強い感情。彼はリリーの怒りを燃やし、彼女を守るために戦うします。\n",
        "4. **Fear**（恐怖）：リリーの脳内で4番目の強い感情。彼女はリリーの恐怖を理解し、彼女を守るために警戒します。\n",
        "5. **Disgust**（嫌悪）：リリーの脳内で5番目の強い感情。彼女はリリーの嫌悪を理解し、彼女を守るために警戒します。\n",
        "\n",
        "これらのキャラクターは、リリーの脳内で活動し、彼女の感情を支配しています。映画「Inside Out」は、子供の感情の世界を描き、子供たちに自分の感情を理解することを教えることを目指しています。\n",
        "\n",
        "\n",
        "**5.ディズニーとピクサーの違いを教えて**\n",
        "\n",
        "\n",
        "回答：\n",
        "\n",
        "ディズニーとピクサーは、両方ともアニメーション製作会社ですが、歴史的には独立した存在で、現在でも異なる組織体制を持っています。\\n\\nディズニーは、ウォルト・ディズニーが創業したアニメーション製作会社で、1930年代に設立されました。ディズニーは、ウォルト・ディズニー自身が創作したキャラクター「ミッキー・マウス」や「ドナルド・ダック」などの人気キャラクターを生み出し、映画「白雪姫」や「シンデレラ」などのクラシック・アニメーション映画を製作しました。\\n\\n一方、ピクサーは、スティーブ・ジョブズとジョン・ラタザンが1986年に設立したアニメーション製作会社です。ピクサーは、初期にはディズニーとの提携関係にあり、「トイ・ストーリー」や「モンスターズ・インク」などの映画を製作しました。2006年にディズニーがピクサーを買収し、現在はディズニーの一部門として運営されています。\\n\\nピクサーの特徴として、ストーリー性の強いアニメーション映画を製作し、「トイ・ストーリー」や「インクレディブルズ」などの大ヒット映画を生み出しています。また、ピクサーは、CGI（コンピューター・ジェネレーテッド・イメージ）技術を積極的に使用し、3Dアニメーション映画を製作しています。\\n\\n以上のように、ディズニーとピクサーは、歴史的には独立した存在で、現在でも異なる組織体制を持っています。ただし、ピクサーがディズニーに買収されたことで、両方の会社は、より強力なアニメーション製作能力を有することになりました。\n",
        "\n"
      ],
      "metadata": {
        "id": "_U5F00XPJ9N3"
      }
    },
    {
      "cell_type": "markdown",
      "source": [
        "## 考察\n",
        "\n",
        "各、質問に対する回答として2や5に関しては正確な回答が得られているが他の解答に関してはところどころに間違いがあり回答としてはあまりいいものとは言えない\n",
        "\n",
        "また、5に関しては質問の種類がYes/Noではなくかつ抽象的な質問だったのでmax_new_tokensを変更したがそこまで差異はなかった\n",
        "\n",
        "補足\n",
        "\n",
        "2に関しては正解してしまったのでRAGでの質問はしないことにした"
      ],
      "metadata": {
        "id": "pAS-3ZkvLMMZ"
      }
    },
    {
      "cell_type": "markdown",
      "source": [
        "# RAG実装"
      ],
      "metadata": {
        "id": "An0Q5j914fHZ"
      }
    },
    {
      "cell_type": "markdown",
      "source": [
        "### アナ雪\n",
        "\n",
        "**初期RAG実装（ベーシックアプローチ）**:\n",
        "* **ドキュメント処理**: Wikipediaにおける「アナと雪の女王」のストーリーを参照\n",
        "* **分割方法**: 「。」（句点）で区切られた文単位でテキストを分割\n",
        "* **検索手法**: シンプルな類似度ベースの検索でクエリに関連する文を抽出\n",
        "* **制約条件**: モデルの入力トークン制限に収まるよう関連文のみを選択"
      ],
      "metadata": {
        "id": "ir43e055-c-8"
      }
    },
    {
      "cell_type": "code",
      "source": [
        "from sentence_transformers import SentenceTransformer\n",
        "\n",
        "emb_model = SentenceTransformer(\"infly/inf-retriever-v1-1.5b\", trust_remote_code=True)\n",
        "# In case you want to reduce the maximum length:\n",
        "emb_model.max_seq_length = 8192"
      ],
      "metadata": {
        "id": "oY7xap1Ycr_3"
      },
      "execution_count": null,
      "outputs": []
    },
    {
      "cell_type": "code",
      "source": [
        "with open(\"/content/frozen.txt\", \"r\") as f:\n",
        "  raw_writedown = f.read()"
      ],
      "metadata": {
        "id": "3qaWoL975FRr"
      },
      "execution_count": null,
      "outputs": []
    },
    {
      "cell_type": "code",
      "source": [
        "# ドキュメントを用意する。\n",
        "documents = [text.strip() for text in raw_writedown.split(\"。\")]\n",
        "print(\"ドキュメントサイズ: \", len(documents))\n",
        "print(\"ドキュメントの例: \\n\", documents[42])"
      ],
      "metadata": {
        "id": "CjZXiSB95e26"
      },
      "execution_count": null,
      "outputs": []
    },
    {
      "cell_type": "code",
      "source": [
        "# Retrievalの実行\n",
        "question = \"アナと雪の女王」に登場する、雪だるまの名前はなに？\"\n",
        "\n",
        "query_embeddings = emb_model.encode([question], prompt_name=\"query\")\n",
        "document_embeddings = emb_model.encode(documents)\n",
        "\n",
        "# 各ドキュメントの類似度スコア\n",
        "scores = (query_embeddings @ document_embeddings.T) * 100\n",
        "print(scores.tolist())"
      ],
      "metadata": {
        "id": "fEDIxAyx5g7F"
      },
      "execution_count": null,
      "outputs": []
    },
    {
      "cell_type": "code",
      "source": [
        "topk = 5\n",
        "for i, index in enumerate(scores.argsort()[0][::-1][:topk]):\n",
        "  print(f\"取得したドキュメント{i+1}: (Score: {scores[0][index]})\")\n",
        "  print(documents[index], \"\\n\\n\")"
      ],
      "metadata": {
        "id": "PKJdCG6H5yPo"
      },
      "execution_count": null,
      "outputs": []
    },
    {
      "cell_type": "code",
      "source": [
        "references = \"\\n\".join([\"* \" + documents[i] for i in scores.argsort()[0][::-1][:topk]])\n",
        "system_prompt = \"質問に回答してください。必ず「日本語で回答」すること。また、与えられる資料を参考にして回答すること。\"\n",
        "question =  f\"[参考資料]\\n{references}\\n\\n[質問] アナと雪の女王」に登場する、雪だるまの名前はなに？\"\n",
        "response = generate_output(question, system_prompt)"
      ],
      "metadata": {
        "id": "Hci9WlqD50HQ"
      },
      "execution_count": null,
      "outputs": []
    },
    {
      "cell_type": "code",
      "source": [
        "response"
      ],
      "metadata": {
        "id": "mO_iMvp-6I5C"
      },
      "execution_count": null,
      "outputs": []
    },
    {
      "cell_type": "markdown",
      "source": [
        "### インサイドヘッド\n"
      ],
      "metadata": {
        "id": "JBSriYsE-Qng"
      }
    },
    {
      "cell_type": "code",
      "source": [
        "with open(\"/content/inside out.txt\", \"r\") as f:\n",
        "  raw_writedown = f.read()"
      ],
      "metadata": {
        "id": "npx6vZXm-XRM"
      },
      "execution_count": null,
      "outputs": []
    },
    {
      "cell_type": "code",
      "source": [
        "# ドキュメントを用意する。\n",
        "documents = [text.strip() for text in raw_writedown.split(\"。\")]\n",
        "print(\"ドキュメントサイズ: \", len(documents))\n",
        "print(\"ドキュメントの例: \\n\", documents[42])"
      ],
      "metadata": {
        "id": "eLW6XEKz-jLT"
      },
      "execution_count": null,
      "outputs": []
    },
    {
      "cell_type": "code",
      "source": [
        "# Retrievalの実行\n",
        "question = \"ディズニー映画「インサイドヘッド」に関して教えて\"\n",
        "\n",
        "query_embeddings = emb_model.encode([question], prompt_name=\"query\")\n",
        "document_embeddings = emb_model.encode(documents)\n",
        "\n",
        "# 各ドキュメントの類似度スコア\n",
        "scores = (query_embeddings @ document_embeddings.T) * 100\n",
        "print(scores.tolist())"
      ],
      "metadata": {
        "id": "WUWDDVpv-kCA"
      },
      "execution_count": null,
      "outputs": []
    },
    {
      "cell_type": "code",
      "source": [
        "topk = 5\n",
        "for i, index in enumerate(scores.argsort()[0][::-1][:topk]):\n",
        "  print(f\"取得したドキュメント{i+1}: (Score: {scores[0][index]})\")\n",
        "  print(documents[index], \"\\n\\n\")"
      ],
      "metadata": {
        "id": "tKL_rXpa6J5S"
      },
      "execution_count": null,
      "outputs": []
    },
    {
      "cell_type": "code",
      "source": [
        "references = \"\\n\".join([\"* \" + documents[i] for i in scores.argsort()[0][::-1][:topk]])\n",
        "system_prompt = \"質問に回答してください。必ず「日本語で回答」すること。また、与えられる資料を参考にして回答すること。\"\n",
        "question =  f\"[参考資料]\\n{references}\\n\\n[質問] ディズニー映画「インサイドヘッド」に関して教えて\"\n",
        "response = generate_output2(question, system_prompt)"
      ],
      "metadata": {
        "id": "xLOz7iXj-ieZ"
      },
      "execution_count": null,
      "outputs": []
    },
    {
      "cell_type": "code",
      "source": [
        "print(response)"
      ],
      "metadata": {
        "id": "SY4iaFzi-ywG"
      },
      "execution_count": null,
      "outputs": []
    },
    {
      "cell_type": "markdown",
      "source": [
        "まあ全体名流れはだいぶ抑えているので及第点\n",
        "\n",
        "ただインサイドヘッド2の内容も入っており、冒頭の部分が違和感のあるものになっているのがよくない"
      ],
      "metadata": {
        "id": "rA4M7CsQ_Ahq"
      }
    },
    {
      "cell_type": "code",
      "source": [
        "# Retrievalの実行\n",
        "question = \"ディズニー映画インサイドヘッドで現在までに登場している感情のキャラクターを教えて\"\n",
        "\n",
        "query_embeddings = emb_model.encode([question], prompt_name=\"query\")\n",
        "document_embeddings = emb_model.encode(documents)\n",
        "\n",
        "# 各ドキュメントの類似度スコア\n",
        "scores = (query_embeddings @ document_embeddings.T) * 100\n",
        "print(scores.tolist())"
      ],
      "metadata": {
        "id": "xw3ixGqw-zo2"
      },
      "execution_count": null,
      "outputs": []
    },
    {
      "cell_type": "code",
      "source": [
        "topk = 5\n",
        "for i, index in enumerate(scores.argsort()[0][::-1][:topk]):\n",
        "  print(f\"取得したドキュメント{i+1}: (Score: {scores[0][index]})\")\n",
        "  print(documents[index], \"\\n\\n\")"
      ],
      "metadata": {
        "id": "EdBHq95z_i03"
      },
      "execution_count": null,
      "outputs": []
    },
    {
      "cell_type": "code",
      "source": [
        "references = \"\\n\".join([\"* \" + documents[i] for i in scores.argsort()[0][::-1][:topk]])\n",
        "system_prompt = \"質問に回答してください。必ず「日本語で回答」すること。また、与えられる資料を参考にして回答すること。\"\n",
        "question =  f\"[参考資料]\\n{references}\\n\\n[質問] ディズニー映画インサイドヘッドで現在までに登場している感情のキャラクターを教えて\"\n",
        "response = generate_output2(question, system_prompt)"
      ],
      "metadata": {
        "id": "Q7xlNAK8_kW4"
      },
      "execution_count": null,
      "outputs": []
    },
    {
      "cell_type": "code",
      "source": [
        "print(response)"
      ],
      "metadata": {
        "id": "gv150PZs_qHt"
      },
      "execution_count": null,
      "outputs": []
    },
    {
      "cell_type": "markdown",
      "source": [
        "### ディズニーとピクサーの違い\n"
      ],
      "metadata": {
        "id": "dhTAQnHgCZWV"
      }
    },
    {
      "cell_type": "code",
      "source": [
        "with open(\"/content/diff_disnet and pixer.txt\", \"r\") as f:\n",
        "  raw_writedown = f.read()"
      ],
      "metadata": {
        "id": "A92MI4p0_slv"
      },
      "execution_count": null,
      "outputs": []
    },
    {
      "cell_type": "code",
      "source": [
        "# ドキュメントを用意する。\n",
        "documents = [text.strip() for text in raw_writedown.split(\"。\")]\n",
        "print(\"ドキュメントサイズ: \", len(documents))\n",
        "print(\"ドキュメントの例: \\n\", documents[42])"
      ],
      "metadata": {
        "id": "Nz3jL0q_Cl9H"
      },
      "execution_count": null,
      "outputs": []
    },
    {
      "cell_type": "code",
      "source": [
        "# Retrievalの実行\n",
        "question = \"ディズニーとピクサーの違いについて教えて\"\n",
        "\n",
        "query_embeddings = emb_model.encode([question], prompt_name=\"query\")\n",
        "document_embeddings = emb_model.encode(documents)\n",
        "\n",
        "# 各ドキュメントの類似度スコア\n",
        "scores = (query_embeddings @ document_embeddings.T) * 100\n",
        "print(scores.tolist())"
      ],
      "metadata": {
        "id": "DCN3gUnWCoB4"
      },
      "execution_count": null,
      "outputs": []
    },
    {
      "cell_type": "code",
      "source": [
        "topk = 5\n",
        "for i, index in enumerate(scores.argsort()[0][::-1][:topk]):\n",
        "  print(f\"取得したドキュメント{i+1}: (Score: {scores[0][index]})\")\n",
        "  print(documents[index], \"\\n\\n\")"
      ],
      "metadata": {
        "id": "uPmgeOU3CuFX"
      },
      "execution_count": null,
      "outputs": []
    },
    {
      "cell_type": "code",
      "source": [
        "references = \"\\n\".join([\"* \" + documents[i] for i in scores.argsort()[0][::-1][:topk]])\n",
        "system_prompt = \"質問に回答してください。必ず「日本語で回答」すること。また、与えられる資料を参考にして回答すること。\"\n",
        "question =  f\"[参考資料]\\n{references}\\n\\n[質問] ディズニーとピクサーの違いについて教えて\"\n",
        "response = generate_output(question, system_prompt)"
      ],
      "metadata": {
        "id": "3bCIRvuNCwO2"
      },
      "execution_count": null,
      "outputs": []
    },
    {
      "cell_type": "code",
      "source": [
        "print(response)"
      ],
      "metadata": {
        "id": "JpRx-r1YC1od"
      },
      "execution_count": null,
      "outputs": []
    },
    {
      "cell_type": "markdown",
      "source": [
        "# 結果\n",
        "\n",
        "**アナ雪**\n",
        "\n",
        "回答:\n",
        "\n",
        "参考資料に基づいて、雪だるまの名前はスヴェンです。スヴェンはクリストフの忠実なトナカイです。\n",
        "\n",
        "\n",
        "**インサイヘッド**\n",
        "\n",
        "質問\n",
        "\n",
        "ディズニー映画「インサイドヘッド」に関して教えて\n",
        "\n",
        "回答：\n",
        "\n",
        "日本語で回答します。\n",
        "\n",
        "「インサイド・ヘッド」はディズニー映画の題材であり、前作の出来事から2年が経過した後、ヨロコビとカナシミが「特別な思い出」が散らばり、「長期記憶の保管場所」へ吸い込まれるというストーリーが展開されます。\n",
        "\n",
        "その後、ヨロコビとカナシミは「記憶のゴミ捨て場」で迷路のように複雑な「長期記憶の保管場所」へ飛ばされ、「性格の島」から司令部へ帰ろうとするが、途中で「友情の島」に到達し、新しい友達ができたと知ったライリーがカッとなった瞬間、「友情の島」まで崩れ落ちてしまう。\n",
        "\n",
        "ヨロコビは絶望に暮れながら手元の特別な思い出を眺めていると、ある思い出に悲しみと喜びが混じっていることに気付くという展開が描かれます。\n",
        "\n",
        "質問\n",
        "\n",
        "ディズニー映画インサイドヘッドで現在までに登場している感情のキャラクターを教えて\n",
        "\n",
        "回答：\n",
        "\n",
        "インサイド・ヘッドの前作で登場した5つの感情のキャラクターは、以下の通りです。\n",
        "\n",
        "1. ヨロコビ (Joy) - ポジティブで前向きの感情\n",
        "2. カナシミ (Sadness) - ネガティブで悲しい感情\n",
        "3. イカリ (Anger) - 短気で怒りっぽい感情\n",
        "4. ムカムカ (Disgust) - 嫌なことを遠ざけるのが役割の感情\n",
        "5. ビビリ (Fear) - 危険や恐怖から身を守ることが役割の感情\n",
        "\n",
        "また、新たに登場した感情のキャラクターとして、以下の5つが挙げられます。\n",
        "\n",
        "1. シンパイ (Anxiety) - 不安を司る感情\n",
        "2. イイナー (Envy) - 嫉妬を司る感情\n",
        "3. ハズカシ (Shame) - 羞恥心を司る感情\n",
        "4. ダリィ (Boredom) - 倦怠感を司る感情\n",
        "\n",
        "以上、インサイド・ヘッドの感情のキャラクターを紹介しました。\n",
        "\n",
        "\n",
        "**ディズニーとピクサーの違い**\n",
        "\n",
        "回答：\n",
        "\n",
        "ディズニーとピクサーの違いは、製作スタジオ(会社)の違いです。正式には、『ウォルト・ディズニー・アニメーション・スタジオ』と『ピクサー・アニメーション・スタジオ』の違いです。両者は同じ『ウォルト・ディズニー・カンパニー』を親としている子会社同士ですが、映画を製作するスタジオ(会社)としては別の存在です。\n",
        "\n",
        "\n",
        "\n"
      ],
      "metadata": {
        "id": "l1H_Y690MLdq"
      }
    },
    {
      "cell_type": "markdown",
      "source": [
        "# 実装の感想\n",
        "\n",
        "\n",
        "全体として、RAG実装前よりも正確な情報かつ入れたテキストファイルにもよるが正確な結果を返していることがわかりRAG手法が効果的であることが分かった\n",
        "\n",
        "ただ、アナ雪のオラフのようにテキストファイルの中に似た属性をもつものが存在するとどうしてもより質問に対する類似度が高い方を優先してしまう傾向があることが分かったのでRAGの実装方法及び、テキストファイル内の情報の均一性などが非常に重要であると感じた\n",
        "\n",
        "また、ただ参照してきたサイトの文書を丸ごと持ってきただけなのにもかかわらず「インサイドヘッド」のようにキャラクターの出現を明確に分けることもできるようになっておりその点に関してはLLMのすごさを感じたのでこれから実際に自分が内部でなにを行っているかなどをしっかりと追っていけるようになりたいと感じた\n"
      ],
      "metadata": {
        "id": "tipoeM16EghU"
      }
    },
    {
      "cell_type": "markdown",
      "source": [
        "# これから\n",
        "\n",
        "今回の実装で学んだことは主に下記の二つ\n",
        "\n",
        "1. RAGの実装方法の多様さと懸念点\n",
        "\n",
        "2. LLMへの質問を明確にする根拠\n",
        "\n",
        "\n",
        "この二つを今回自分で実装することでさらに、理解が深まりました\n",
        "\n",
        "特に、最後の方ではなかなかうまくいかない点もあったので授業資料を負いつつほかの講座もとることでなんとか解決手法をこれから探していければと感じました\n",
        "\n",
        "RAGに関していえば、具体的にはどのような情報を読み込ませることが重要なのだろうかもしくは莫大な量のテキストファイルさえあればいいのかなど基本的なLLMの知識がないのでそこをまず学習しようと感じました\n",
        "\n",
        "また、自分自身がLLMを実装する機会もしくはさらに先のAIモデルを実装することがあるかもしれないのでその起点になった気がしました\n",
        "\n"
      ],
      "metadata": {
        "id": "GtBWl_s0GIXf"
      }
    }
  ]
}